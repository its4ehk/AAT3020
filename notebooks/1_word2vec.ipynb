{
  "cells": [
    {
      "cell_type": "markdown",
      "metadata": {
        "id": "view-in-github",
        "colab_type": "text"
      },
      "source": [
        "<a href=\"https://colab.research.google.com/github/its4ehk/AAT3020/blob/main/notebooks/1_word2vec.ipynb\" target=\"_parent\"><img src=\"https://colab.research.google.com/assets/colab-badge.svg\" alt=\"Open In Colab\"/></a>"
      ]
    },
    {
      "cell_type": "markdown",
      "metadata": {
        "id": "6FZ2ZSwcyhDQ"
      },
      "source": [
        "# Word2Vec Implementation from Scratch\n",
        "\n",
        "This notebook demonstrates how to implement the Word2Vec algorithm from scratch using PyTorch. We'll use the first Harry Potter book as our corpus to train word embeddings.\n"
      ]
    },
    {
      "cell_type": "markdown",
      "metadata": {
        "id": "pDRbSHQIyhDS"
      },
      "source": [
        "## 1. Setting Up the Environment\n",
        "\n",
        "First, we need to import the necessary libraries:\n",
        "- `torch` and `torch.nn` for tensor operations and neural network functionality\n",
        "- `string` for string manipulations (removing punctuation)\n"
      ]
    },
    {
      "cell_type": "code",
      "execution_count": 1,
      "metadata": {
        "id": "L9BA5Lg2QRMr"
      },
      "outputs": [],
      "source": [
        "import torch\n",
        "import torch.nn as nn\n",
        "import string\n"
      ]
    },
    {
      "cell_type": "markdown",
      "metadata": {
        "id": "EA7ERi6CyhDS"
      },
      "source": [
        "## 2. Getting the Text Data\n",
        "\n",
        "We'll download the first Harry Potter book to use as our corpus."
      ]
    },
    {
      "cell_type": "code",
      "execution_count": 2,
      "metadata": {
        "colab": {
          "base_uri": "https://localhost:8080/"
        },
        "id": "tEaaz_s0QRMs",
        "outputId": "95866979-6ed7-4f48-b29a-4f0ccf92274c"
      },
      "outputs": [
        {
          "output_type": "stream",
          "name": "stdout",
          "text": [
            "--2025-03-27 04:33:20--  https://raw.githubusercontent.com/amephraim/nlp/master/texts/J.%20K.%20Rowling%20-%20Harry%20Potter%201%20-%20Sorcerer's%20Stone.txt\n",
            "Resolving raw.githubusercontent.com (raw.githubusercontent.com)... 185.199.108.133, 185.199.109.133, 185.199.110.133, ...\n",
            "Connecting to raw.githubusercontent.com (raw.githubusercontent.com)|185.199.108.133|:443... connected.\n",
            "HTTP request sent, awaiting response... 200 OK\n",
            "Length: 439742 (429K) [text/plain]\n",
            "Saving to: ‘J. K. Rowling - Harry Potter 1 - Sorcerer's Stone.txt’\n",
            "\n",
            "\r          J. K. Row   0%[                    ]       0  --.-KB/s               \rJ. K. Rowling - Har 100%[===================>] 429.44K  --.-KB/s    in 0.03s   \n",
            "\n",
            "2025-03-27 04:33:20 (14.6 MB/s) - ‘J. K. Rowling - Harry Potter 1 - Sorcerer's Stone.txt’ saved [439742/439742]\n",
            "\n"
          ]
        }
      ],
      "source": [
        "!wget \"https://raw.githubusercontent.com/amephraim/nlp/master/texts/J.%20K.%20Rowling%20-%20Harry%20Potter%201%20-%20Sorcerer's%20Stone.txt\"\n"
      ]
    },
    {
      "cell_type": "markdown",
      "metadata": {
        "id": "PT6qumaDyhDT"
      },
      "source": [
        "## 3. Text Preprocessing\n",
        "\n",
        "Before we can use the text data, we need to preprocess it:\n",
        "- Remove punctuation\n",
        "- Convert text to lowercase\n",
        "- Split text into tokens (words)\n",
        "\n",
        "This function will help us clean and tokenize the text."
      ]
    },
    {
      "cell_type": "code",
      "execution_count": 3,
      "metadata": {
        "id": "CUsXJYlIQRMs"
      },
      "outputs": [],
      "source": [
        "def remove_punctuation(x):\n",
        "  return x.translate(''.maketrans('', '', string.punctuation))\n",
        "\n",
        "def make_tokenized_corpus(corpus):\n",
        "  out= [ [y.lower() for y in remove_punctuation(sentence).split(' ') if y] for sentence in corpus]\n",
        "  return [x for x in out if x!=[]]\n"
      ]
    },
    {
      "cell_type": "markdown",
      "metadata": {
        "id": "ptv8VRGXyhDT"
      },
      "source": [
        "## 4. Loading and Formatting the Text\n",
        "\n",
        "Now we'll load the text file, replace some special characters, and split the text into sentences.\n"
      ]
    },
    {
      "cell_type": "code",
      "execution_count": 4,
      "metadata": {
        "id": "Ry1o-F-bQRMs"
      },
      "outputs": [],
      "source": [
        "with open(\"J. K. Rowling - Harry Potter 1 - Sorcerer's Stone.txt\", 'r') as f:\n",
        "  strings = f.readlines()\n",
        "sample_text = \"\".join(strings).replace('\\n', ' ').replace('Mr.', 'mr').replace('Mrs.', 'mrs').split('. ')\n"
      ]
    },
    {
      "cell_type": "markdown",
      "metadata": {
        "id": "p-mCXyJuyhDT"
      },
      "source": [
        "Let's tokenize the text using our preprocessing function `make_tokenized_corpus`:"
      ]
    },
    {
      "cell_type": "code",
      "execution_count": 5,
      "metadata": {
        "id": "Ne-pUaxSQRMs"
      },
      "outputs": [],
      "source": [
        "# Corpus is a list of list of strings (words)"
      ]
    },
    {
      "cell_type": "code",
      "source": [
        "corpus = make_tokenized_corpus(sample_text)\n",
        "\n",
        "corpus[:5]"
      ],
      "metadata": {
        "colab": {
          "base_uri": "https://localhost:8080/"
        },
        "id": "Sx6UoEHjylS1",
        "outputId": "3e9039b7-078e-4566-af64-16bb5af560f5"
      },
      "execution_count": 6,
      "outputs": [
        {
          "output_type": "execute_result",
          "data": {
            "text/plain": [
              "[['harry',\n",
              "  'potter',\n",
              "  'and',\n",
              "  'the',\n",
              "  'sorcerers',\n",
              "  'stone',\n",
              "  'chapter',\n",
              "  'one',\n",
              "  'the',\n",
              "  'boy',\n",
              "  'who',\n",
              "  'lived',\n",
              "  'mr',\n",
              "  'and',\n",
              "  'mrs',\n",
              "  'dursley',\n",
              "  'of',\n",
              "  'number',\n",
              "  'four',\n",
              "  'privet',\n",
              "  'drive',\n",
              "  'were',\n",
              "  'proud',\n",
              "  'to',\n",
              "  'say',\n",
              "  'that',\n",
              "  'they',\n",
              "  'were',\n",
              "  'perfectly',\n",
              "  'normal',\n",
              "  'thank',\n",
              "  'you',\n",
              "  'very',\n",
              "  'much'],\n",
              " ['they',\n",
              "  'were',\n",
              "  'the',\n",
              "  'last',\n",
              "  'people',\n",
              "  'youd',\n",
              "  'expect',\n",
              "  'to',\n",
              "  'be',\n",
              "  'involved',\n",
              "  'in',\n",
              "  'anything',\n",
              "  'strange',\n",
              "  'or',\n",
              "  'mysterious',\n",
              "  'because',\n",
              "  'they',\n",
              "  'just',\n",
              "  'didnt',\n",
              "  'hold',\n",
              "  'with',\n",
              "  'such',\n",
              "  'nonsense'],\n",
              " ['mr',\n",
              "  'dursley',\n",
              "  'was',\n",
              "  'the',\n",
              "  'director',\n",
              "  'of',\n",
              "  'a',\n",
              "  'firm',\n",
              "  'called',\n",
              "  'grunnings',\n",
              "  'which',\n",
              "  'made',\n",
              "  'drills'],\n",
              " ['he',\n",
              "  'was',\n",
              "  'a',\n",
              "  'big',\n",
              "  'beefy',\n",
              "  'man',\n",
              "  'with',\n",
              "  'hardly',\n",
              "  'any',\n",
              "  'neck',\n",
              "  'although',\n",
              "  'he',\n",
              "  'did',\n",
              "  'have',\n",
              "  'a',\n",
              "  'very',\n",
              "  'large',\n",
              "  'mustache'],\n",
              " ['mrs',\n",
              "  'dursley',\n",
              "  'was',\n",
              "  'thin',\n",
              "  'and',\n",
              "  'blonde',\n",
              "  'and',\n",
              "  'had',\n",
              "  'nearly',\n",
              "  'twice',\n",
              "  'the',\n",
              "  'usual',\n",
              "  'amount',\n",
              "  'of',\n",
              "  'neck',\n",
              "  'which',\n",
              "  'came',\n",
              "  'in',\n",
              "  'very',\n",
              "  'useful',\n",
              "  'as',\n",
              "  'she',\n",
              "  'spent',\n",
              "  'so',\n",
              "  'much',\n",
              "  'of',\n",
              "  'her',\n",
              "  'time',\n",
              "  'craning',\n",
              "  'over',\n",
              "  'garden',\n",
              "  'fences',\n",
              "  'spying',\n",
              "  'on',\n",
              "  'the',\n",
              "  'neighbors']]"
            ]
          },
          "metadata": {},
          "execution_count": 6
        }
      ]
    },
    {
      "cell_type": "markdown",
      "metadata": {
        "id": "rLBY2P7_yhDU"
      },
      "source": [
        "## 5. Creating Context Word Pairs\n",
        "\n",
        "A key concept in Word2Vec is learning from context. We need to create pairs of words that appear near each other in the text. We'll use a sliding window approach to create these pairs.\n",
        "\n",
        "For example, with the window size of 2, for the word \"to\" in the sentence \"they were the last people youd expect to be involved...\", we would create pairs with:\n",
        "- (\"to\", \"expect\")\n",
        "- (\"to\", \"be\")\n",
        "- (\"to\", \"involved\")\n",
        "- (\"to\", \"in\")\n",
        "\n",
        "These pairs will be our training data."
      ]
    },
    {
      "cell_type": "code",
      "execution_count": 7,
      "metadata": {
        "colab": {
          "base_uri": "https://localhost:8080/"
        },
        "id": "-UxJwTAacWfP",
        "outputId": "57774008-2e56-4d89-de22-dde3e9cddeb7"
      },
      "outputs": [
        {
          "output_type": "stream",
          "name": "stderr",
          "text": [
            "100%|██████████| 4682/4682 [00:00<00:00, 5188.87it/s]"
          ]
        },
        {
          "output_type": "stream",
          "name": "stdout",
          "text": [
            "\n",
            "Length of word_pairs is 282372\n",
            "First 5 example of word_pairs is [('harry', 'potter'), ('harry', 'and'), ('potter', 'harry'), ('potter', 'and'), ('potter', 'the')]\n"
          ]
        },
        {
          "output_type": "stream",
          "name": "stderr",
          "text": [
            "\n"
          ]
        }
      ],
      "source": [
        "from tqdm import tqdm\n",
        "\n",
        "sample_sentence = ['they', 'were', 'the', 'last', 'people', 'youd', 'expect', 'to', 'be', 'involved', 'in', 'anything', 'strange', 'or', 'mysterious', 'because', 'they', 'just', 'didnt', 'hold', 'with', 'such', 'nonsense']\n",
        "\n",
        "word_pairs = []\n",
        "window_size = 2\n",
        "\n",
        "for sample_sentence in tqdm(corpus):\n",
        "  for cur_idx, center_word in enumerate(sample_sentence):\n",
        "    window_begin = max(cur_idx - window_size, 0)\n",
        "    window_end = min(cur_idx + window_size + 1, len(sample_sentence))\n",
        "    # for context_word in sample_sentence[window_begin:window_end]:\n",
        "    #   # if center_word == context_word: continue\n",
        "    #   word_pairs.append( (center_word, context_word))\n",
        "    for j in range(window_begin, window_end):\n",
        "      if cur_idx == j: continue\n",
        "      word_pairs.append( (center_word, sample_sentence[j]))\n",
        "\n",
        "print(f\"\\nLength of word_pairs is {len(word_pairs)}\")\n",
        "print(f\"First 5 example of word_pairs is {word_pairs[:5]}\")"
      ]
    },
    {
      "cell_type": "markdown",
      "metadata": {
        "id": "WD-SN32cyhDU"
      },
      "source": [
        "## 6. Building the Vocabulary\n",
        "\n",
        "To work with word vectors, we need to create a vocabulary that maps each unique word to an index. We'll also filter out rare words that appear less than a certain number of times in the corpus.\n",
        "\n",
        "### 6.1 Collecting All Words\n",
        "\n",
        "First, let's collect all words in our corpus:\n"
      ]
    },
    {
      "cell_type": "code",
      "execution_count": 8,
      "metadata": {
        "id": "htinJiMPkkRE"
      },
      "outputs": [],
      "source": [
        "# we have to make vocabulary\n",
        "sentence = corpus[0]\n",
        "entire_words = []\n",
        "\n",
        "for sentence in corpus:\n",
        "  for word in sentence:\n",
        "    entire_words.append(word)\n",
        "\n"
      ]
    },
    {
      "cell_type": "markdown",
      "metadata": {
        "id": "j_68LD6IyhDU"
      },
      "source": [
        "\n",
        "### 6.2 Finding Unique Words\n",
        "\n",
        "Now, let's find the unique words in our corpus:"
      ]
    },
    {
      "cell_type": "code",
      "execution_count": 9,
      "metadata": {
        "colab": {
          "base_uri": "https://localhost:8080/"
        },
        "id": "ERBFCjeslgDe",
        "outputId": "9ca4e161-6bfb-48a6-a709-353c7838d82c"
      },
      "outputs": [
        {
          "output_type": "execute_result",
          "data": {
            "text/plain": [
              "6038"
            ]
          },
          "metadata": {},
          "execution_count": 9
        }
      ],
      "source": [
        "# we have to get the \"unique\" item among total words\n",
        "\n",
        "unique_words = set(entire_words)\n",
        "len(unique_words)\n"
      ]
    },
    {
      "cell_type": "markdown",
      "metadata": {
        "id": "H7oqHw4dyhDU"
      },
      "source": [
        "### 6.3 Converting to a List and Sorting\n",
        "\n",
        "We'll convert the set of unique words to a sorted list:"
      ]
    },
    {
      "cell_type": "code",
      "execution_count": 10,
      "metadata": {
        "colab": {
          "base_uri": "https://localhost:8080/",
          "height": 35
        },
        "id": "fDJNrHdhl_dk",
        "outputId": "f64d42c2-a1d6-4874-9850-0987b379b932"
      },
      "outputs": [
        {
          "output_type": "execute_result",
          "data": {
            "text/plain": [
              "'\\the'"
            ],
            "application/vnd.google.colaboratory.intrinsic+json": {
              "type": "string"
            }
          },
          "metadata": {},
          "execution_count": 10
        }
      ],
      "source": [
        "# vocab_set[0] # set is not subscriptable because it has no order\n",
        "\n",
        "unique_words = sorted(list(unique_words))\n",
        "unique_words[0]\n"
      ]
    },
    {
      "cell_type": "markdown",
      "metadata": {
        "id": "gyPBBsJCyhDU"
      },
      "source": [
        "### 6.4 Filtering by Frequency\n",
        "\n",
        "Now, let's filter out rare words that occur less than a specified number of times:\n",
        "- We can use the `Counter` class from the `collections` module to count the frequency of each word in the corpus.\n",
        "- Caution on `alist.sort()` will return `None`."
      ]
    },
    {
      "cell_type": "code",
      "execution_count": 11,
      "metadata": {
        "colab": {
          "base_uri": "https://localhost:8080/"
        },
        "id": "wOkBSjrkmNE4",
        "outputId": "d7f0980d-0b66-4bfa-9f75-2faffab42135"
      },
      "outputs": [
        {
          "output_type": "execute_result",
          "data": {
            "text/plain": [
              "['a',\n",
              " 'able',\n",
              " 'abou',\n",
              " 'about',\n",
              " 'above',\n",
              " 'across',\n",
              " 'added',\n",
              " 'afford',\n",
              " 'afraid',\n",
              " 'after']"
            ]
          },
          "metadata": {},
          "execution_count": 11
        }
      ],
      "source": [
        "# how can we filter the vocab by its frequency?\n",
        "filtered_vocab = None\n",
        "# you can use word counter as dictionary\n",
        "# In python dictionary, dict.keys() gives keys, and dict.values() give values,\n",
        "# dict.items() give (key, value)\n",
        "\n",
        "from collections import Counter\n",
        "word_counter = Counter(entire_words)\n",
        "word_counter.most_common(10)\n",
        "word_counter['harry']\n",
        "\n",
        "threshold = 5\n",
        "filtered_vocab = []\n",
        "\n",
        "for key, value in word_counter.items():\n",
        "  if value > threshold:\n",
        "    filtered_vocab.append(key)\n",
        "\n",
        "filtered_vocab.sort()\n",
        "filtered_vocab[:10]"
      ]
    },
    {
      "cell_type": "markdown",
      "metadata": {
        "id": "Gfez7UfYyhDU"
      },
      "source": [
        "## 7. Filtering Word Pairs\n",
        "\n",
        "Now that we have our filtered vocabulary, we need to filter our word pairs to only include words that are in our vocabulary:"
      ]
    },
    {
      "cell_type": "code",
      "execution_count": 12,
      "metadata": {
        "colab": {
          "base_uri": "https://localhost:8080/"
        },
        "id": "XUS6U7y7opUp",
        "outputId": "3580f279-c538-4e09-cc42-7d81039d9ad0"
      },
      "outputs": [
        {
          "output_type": "stream",
          "name": "stderr",
          "text": [
            "100%|██████████| 282372/282372 [00:01<00:00, 281102.91it/s]\n"
          ]
        }
      ],
      "source": [
        "# Filter the word_pairs using the vocab\n",
        "# word_pairs, filtered_vocab\n",
        "# word_pairs is a list of [word_a, word_b]\n",
        "\n",
        "filtered_word_pairs = []\n",
        "vocab_set = set(filtered_vocab)\n",
        "\n",
        "for pair in tqdm(word_pairs):\n",
        "  a, b = pair\n",
        "  if a in vocab_set and b in vocab_set:\n",
        "    filtered_word_pairs.append(pair)\n"
      ]
    },
    {
      "cell_type": "code",
      "execution_count": 13,
      "metadata": {
        "id": "U-o4UucOrcem",
        "colab": {
          "base_uri": "https://localhost:8080/"
        },
        "outputId": "8baa8ed4-8441-4261-ca99-ab2be603a634"
      },
      "outputs": [
        {
          "output_type": "execute_result",
          "data": {
            "text/plain": [
              "('harry', 'potter')"
            ]
          },
          "metadata": {},
          "execution_count": 13
        }
      ],
      "source": [
        "# implement same algorithm with list comprehension\n",
        "\n",
        "filtered_word_pairs = [pair for pair in word_pairs if pair[0] in vocab_set and pair[1] in vocab_set]\n",
        "filtered_word_pairs[0]"
      ]
    },
    {
      "cell_type": "code",
      "execution_count": 14,
      "metadata": {
        "colab": {
          "base_uri": "https://localhost:8080/"
        },
        "id": "Uz_8ch59ps_P",
        "outputId": "9f266a92-68f6-4b13-ee53-b6490a0cf95f"
      },
      "outputs": [
        {
          "output_type": "execute_result",
          "data": {
            "text/plain": [
              "(226846, 282372)"
            ]
          },
          "metadata": {},
          "execution_count": 14
        }
      ],
      "source": [
        "len(filtered_word_pairs), len(word_pairs)"
      ]
    },
    {
      "cell_type": "markdown",
      "metadata": {
        "id": "fGqUhV1ayhDU"
      },
      "source": [
        "## 8. Converting Words to Indices\n",
        "\n",
        "For efficiency, we'll convert our words to indices according to their position in our vocabulary:"
      ]
    },
    {
      "cell_type": "code",
      "execution_count": 15,
      "metadata": {
        "colab": {
          "base_uri": "https://localhost:8080/"
        },
        "id": "VFJfhOznqyi-",
        "outputId": "39951889-10da-4fa5-93e7-baf921c59241"
      },
      "outputs": [
        {
          "output_type": "execute_result",
          "data": {
            "text/plain": [
              "527"
            ]
          },
          "metadata": {},
          "execution_count": 15
        }
      ],
      "source": [
        "# convert word into index of vocab\n",
        "filtered_vocab.index('harry')"
      ]
    },
    {
      "cell_type": "markdown",
      "metadata": {
        "id": "mr7Ov52nyhDU"
      },
      "source": [
        "This is inefficient because `list.index()` has to scan the list every time. Let's use a dictionary for faster lookups:"
      ]
    },
    {
      "cell_type": "code",
      "execution_count": 16,
      "metadata": {
        "colab": {
          "base_uri": "https://localhost:8080/"
        },
        "id": "2D8n16VitIHP",
        "outputId": "19cdd398-10ec-43fb-967c-7d8b2d7d5b96"
      },
      "outputs": [
        {
          "output_type": "execute_result",
          "data": {
            "text/plain": [
              "527"
            ]
          },
          "metadata": {},
          "execution_count": 16
        }
      ],
      "source": [
        "# we can make it faster\n",
        "# use dictionary to find the index of string\n",
        "word2idx = dict()\n",
        "for idx, word in enumerate(filtered_vocab):\n",
        "  word2idx[word] = idx\n",
        "word2idx['harry']"
      ]
    },
    {
      "cell_type": "markdown",
      "metadata": {
        "id": "GG9ESVqLyhDV"
      },
      "source": [
        "Now, let's convert our word pairs to index pairs more efficiently:"
      ]
    },
    {
      "cell_type": "code",
      "execution_count": 17,
      "metadata": {
        "colab": {
          "base_uri": "https://localhost:8080/"
        },
        "id": "utXemuOgt8-o",
        "outputId": "760a7875-b99c-48c8-aa13-76fba99dc5a7"
      },
      "outputs": [
        {
          "output_type": "execute_result",
          "data": {
            "text/plain": [
              "(527, 953)"
            ]
          },
          "metadata": {},
          "execution_count": 17
        }
      ],
      "source": [
        "index_pairs = [(word2idx[pair[0]], word2idx[pair[1]]) for pair in filtered_word_pairs]\n",
        "index_pairs[0]"
      ]
    },
    {
      "cell_type": "code",
      "execution_count": 18,
      "metadata": {
        "colab": {
          "base_uri": "https://localhost:8080/",
          "height": 35
        },
        "id": "KgQ_oSNGuZAd",
        "outputId": "8e22d9d2-e922-4778-83b8-eae5645bf6d8"
      },
      "outputs": [
        {
          "output_type": "execute_result",
          "data": {
            "text/plain": [
              "'harry'"
            ],
            "application/vnd.google.colaboratory.intrinsic+json": {
              "type": "string"
            }
          },
          "metadata": {},
          "execution_count": 18
        }
      ],
      "source": [
        "# Why we don't need idx2tok?\n",
        "\n",
        "filtered_vocab[527]"
      ]
    },
    {
      "cell_type": "markdown",
      "metadata": {
        "id": "waHqgJANyhDV"
      },
      "source": [
        "## 9. Creating Initial Word Vectors\n",
        "\n",
        "Now we'll create random vectors for each word in our vocabulary. These vectors will be adjusted during training:\n",
        "- We can use `torch.randn` to create random vectors that follow normal distribution."
      ]
    },
    {
      "cell_type": "code",
      "execution_count": 19,
      "metadata": {
        "colab": {
          "base_uri": "https://localhost:8080/"
        },
        "id": "ygV93qzDu4Ls",
        "outputId": "a0c4369f-6e99-4c9e-cc60-dddedd472595"
      },
      "outputs": [
        {
          "output_type": "execute_result",
          "data": {
            "text/plain": [
              "tensor([[ 0.1606,  0.0193, -0.0857,  ..., -0.0286,  0.0062, -0.0186],\n",
              "        [-0.0094, -0.0075,  0.0311,  ...,  0.0024,  0.0100, -0.1194],\n",
              "        [-0.0551, -0.0987, -0.0694,  ..., -0.0677, -0.1015, -0.0215],\n",
              "        ...,\n",
              "        [ 0.0531,  0.1019,  0.2135,  ...,  0.0133, -0.0153,  0.0294],\n",
              "        [ 0.0576, -0.0381,  0.1876,  ..., -0.0231, -0.2428,  0.0417],\n",
              "        [ 0.1121, -0.0802,  0.1494,  ..., -0.0565, -0.0334,  0.1077]])"
            ]
          },
          "metadata": {},
          "execution_count": 19
        }
      ],
      "source": [
        "# we have to make random vectors for each word in the vocab\n",
        "# we also have to decide the dimension of the vector\n",
        "\n",
        "dim = 100\n",
        "vocab_size = len(filtered_vocab)\n",
        "\n",
        "word_vectors = torch.randn(vocab_size, dim) / dim ** 0.5\n",
        "word_vectors"
      ]
    },
    {
      "cell_type": "code",
      "execution_count": 20,
      "metadata": {
        "colab": {
          "base_uri": "https://localhost:8080/"
        },
        "id": "vmZcT53rvwW2",
        "outputId": "dac32c27-64fb-4dec-e585-d542acf43e71"
      },
      "outputs": [
        {
          "output_type": "execute_result",
          "data": {
            "text/plain": [
              "tensor([-3.5828e-02,  1.6799e-01, -4.2960e-02,  1.0424e-01,  1.4905e-01,\n",
              "         2.7470e-02, -6.5623e-02, -2.5554e-01, -1.7193e-01, -1.5054e-01,\n",
              "        -8.4134e-02,  6.3736e-02, -1.3633e-01, -1.4597e-01, -6.4727e-02,\n",
              "         9.1419e-02,  2.2698e-02, -1.7363e-01, -5.0028e-02, -6.6064e-02,\n",
              "         1.1732e-02, -9.9044e-02, -9.2597e-02, -1.1510e-01,  7.7200e-03,\n",
              "        -5.5919e-02, -1.1579e-01, -8.6488e-03,  1.3506e-02,  1.9372e-02,\n",
              "         7.0290e-02,  3.4476e-02, -7.4622e-02, -5.0569e-02,  4.5429e-05,\n",
              "         6.6092e-02, -2.2051e-01, -5.6637e-02,  6.3201e-02, -5.3109e-02,\n",
              "        -9.0428e-02,  1.5813e-01,  2.1060e-02,  3.0614e-02,  4.0917e-02,\n",
              "        -8.1352e-02, -3.5675e-02, -3.2409e-03, -1.9745e-01,  8.2119e-02,\n",
              "         8.6534e-03, -9.0268e-04,  7.8915e-02,  4.9696e-02,  6.2804e-02,\n",
              "        -9.4249e-02,  1.3692e-01,  5.1751e-02, -9.0308e-02,  2.7933e-03,\n",
              "         2.9362e-02, -9.4543e-02,  1.9117e-04, -2.3275e-02, -4.0724e-02,\n",
              "        -2.3926e-02, -1.1228e-02,  5.6650e-02, -5.6786e-02,  6.5554e-02,\n",
              "         9.3548e-02, -3.4553e-02, -1.2060e-01,  5.7124e-02, -7.6144e-02,\n",
              "         2.2861e-01, -1.5127e-01,  3.4574e-02, -3.3221e-02, -1.9693e-02,\n",
              "         7.7645e-03,  7.6654e-02,  7.6245e-02,  4.5150e-03, -1.7568e-01,\n",
              "         9.6780e-02, -2.3403e-01,  2.2192e-02, -1.3562e-01, -1.1075e-01,\n",
              "         1.0038e-01, -7.9399e-02,  2.0054e-02, -4.2552e-02, -7.2184e-02,\n",
              "         1.6090e-03, -3.3247e-02, -1.1271e-01,  7.9687e-02, -1.6845e-01])"
            ]
          },
          "metadata": {},
          "execution_count": 20
        }
      ],
      "source": [
        "# what is the vector for harry?\n",
        "\n",
        "word_vectors[word2idx['harry']]\n"
      ]
    },
    {
      "cell_type": "markdown",
      "metadata": {
        "id": "LLdvJrdKyhDV"
      },
      "source": [
        "## 10. Understanding Word Relationships with Dot Products\n",
        "\n",
        "The core of Word2Vec is using dot products to measure relationships between words. Let's explore this concept:"
      ]
    },
    {
      "cell_type": "code",
      "execution_count": 21,
      "metadata": {
        "id": "J4bEKFvUxbVv"
      },
      "outputs": [],
      "source": [
        "torch.set_printoptions(sci_mode=False) # Do this to avoid scientific notation\n"
      ]
    },
    {
      "cell_type": "markdown",
      "metadata": {
        "id": "VaCMWmD6Suhy"
      },
      "source": [
        "## Dot Product\n",
        "- Assume we have two vectors $a$ and $b$.\n",
        "  - $a = [a_1, a_2, a_3, a_4, ..., a_n]$\n",
        "  - $b = [b_1, b_2, b_3, b_4, ..., b_n]$\n",
        "- $a \\cdot b$ = $\\sum _{i=1}^n a_ib_i$  = $a_1b_1 + a_2b_2 + a_3b_3 + a_4b_4 + ... + a_nb_n$\n",
        "\n",
        "Let's calculate the dot product between \"harry\" and \"potter\":\n"
      ]
    },
    {
      "cell_type": "code",
      "execution_count": 22,
      "metadata": {
        "colab": {
          "base_uri": "https://localhost:8080/"
        },
        "id": "gsse-jUrw6c2",
        "outputId": "635388ad-d7a5-46bc-9153-ebc84f16667e"
      },
      "outputs": [
        {
          "output_type": "execute_result",
          "data": {
            "text/plain": [
              "tensor(-0.0366)"
            ]
          },
          "metadata": {},
          "execution_count": 22
        }
      ],
      "source": [
        "# calculate P(potter|harry)\n",
        "harry = word_vectors[word2idx['harry']]\n",
        "potter = word_vectors[word2idx['potter']]\n",
        "dot_product_value_between_potter_harry = sum(harry * potter)\n",
        "dot_product_value_between_potter_harry"
      ]
    },
    {
      "cell_type": "code",
      "execution_count": 23,
      "metadata": {
        "colab": {
          "base_uri": "https://localhost:8080/"
        },
        "id": "wZrLEY36yBNZ",
        "outputId": "9d6005c8-db92-4f4c-b455-a09488e867fe",
        "collapsed": true
      },
      "outputs": [
        {
          "output_type": "execute_result",
          "data": {
            "text/plain": [
              "{'a': tensor(0.0387),\n",
              " 'able': tensor(0.0740),\n",
              " 'abou': tensor(-0.0794),\n",
              " 'about': tensor(0.0609),\n",
              " 'above': tensor(-0.1522),\n",
              " 'across': tensor(-0.0561),\n",
              " 'added': tensor(0.0784),\n",
              " 'afford': tensor(0.0229),\n",
              " 'afraid': tensor(-0.0013),\n",
              " 'after': tensor(0.0641),\n",
              " 'afternoon': tensor(-0.1605),\n",
              " 'again': tensor(-0.0249),\n",
              " 'against': tensor(0.0410),\n",
              " 'ages': tensor(-0.1262),\n",
              " 'ago': tensor(0.0230),\n",
              " 'agreed': tensor(-0.0756),\n",
              " 'ah': tensor(0.0160),\n",
              " 'ahead': tensor(-0.0492),\n",
              " 'air': tensor(0.0287),\n",
              " 'albus': tensor(0.0578),\n",
              " 'alive': tensor(-0.0237),\n",
              " 'all': tensor(0.0019),\n",
              " 'alley': tensor(-0.2029),\n",
              " 'allowed': tensor(-0.0234),\n",
              " 'almost': tensor(-0.0062),\n",
              " 'alone': tensor(0.0314),\n",
              " 'along': tensor(-0.0809),\n",
              " 'already': tensor(0.0149),\n",
              " 'also': tensor(0.0125),\n",
              " 'although': tensor(-0.0172),\n",
              " 'always': tensor(0.1810),\n",
              " 'am': tensor(0.0281),\n",
              " 'an': tensor(0.0252),\n",
              " 'and': tensor(-0.0593),\n",
              " 'angrily': tensor(-0.0822),\n",
              " 'angry': tensor(0.0990),\n",
              " 'another': tensor(-0.1108),\n",
              " 'answer': tensor(0.0367),\n",
              " 'any': tensor(0.1088),\n",
              " 'anymore': tensor(-0.0586),\n",
              " 'anyone': tensor(-0.0924),\n",
              " 'anythin': tensor(-0.0164),\n",
              " 'anything': tensor(0.0901),\n",
              " 'anyway': tensor(0.0940),\n",
              " 'anywhere': tensor(-0.0588),\n",
              " 'apart': tensor(0.0823),\n",
              " 'appeared': tensor(-0.1757),\n",
              " 'are': tensor(0.0393),\n",
              " 'arent': tensor(0.0141),\n",
              " 'arm': tensor(-0.1360),\n",
              " 'armor': tensor(-0.0792),\n",
              " 'arms': tensor(-0.0382),\n",
              " 'around': tensor(-0.0301),\n",
              " 'arrived': tensor(0.0390),\n",
              " 'arts': tensor(-0.0224),\n",
              " 'as': tensor(0.1891),\n",
              " 'ask': tensor(0.1270),\n",
              " 'asked': tensor(0.0712),\n",
              " 'asking': tensor(0.2565),\n",
              " 'asleep': tensor(-0.0529),\n",
              " 'at': tensor(0.1404),\n",
              " 'attention': tensor(0.1223),\n",
              " 'aunt': tensor(-0.0563),\n",
              " 'awake': tensor(-0.1594),\n",
              " 'away': tensor(0.1440),\n",
              " 'baby': tensor(-0.0162),\n",
              " 'back': tensor(-0.0755),\n",
              " 'backward': tensor(0.1400),\n",
              " 'bacon': tensor(-0.0421),\n",
              " 'bad': tensor(0.0652),\n",
              " 'bag': tensor(0.0014),\n",
              " 'ball': tensor(-0.0043),\n",
              " 'balls': tensor(0.0451),\n",
              " 'bane': tensor(-0.0155),\n",
              " 'barrier': tensor(0.0948),\n",
              " 'be': tensor(-0.0272),\n",
              " 'beans': tensor(-0.1769),\n",
              " 'beard': tensor(0.0471),\n",
              " 'became': tensor(-0.0774),\n",
              " 'because': tensor(-0.0007),\n",
              " 'become': tensor(-0.1515),\n",
              " 'bed': tensor(-0.0700),\n",
              " 'bedroom': tensor(0.0446),\n",
              " 'been': tensor(-0.0093),\n",
              " 'before': tensor(0.1089),\n",
              " 'began': tensor(-0.0924),\n",
              " 'behind': tensor(0.1121),\n",
              " 'being': tensor(0.0349),\n",
              " 'believe': tensor(0.0112),\n",
              " 'below': tensor(0.0012),\n",
              " 'beneath': tensor(0.1267),\n",
              " 'bent': tensor(0.0251),\n",
              " 'best': tensor(0.0777),\n",
              " 'bet': tensor(-0.0469),\n",
              " 'better': tensor(-0.0487),\n",
              " 'between': tensor(-0.2038),\n",
              " 'big': tensor(-0.0243),\n",
              " 'bill': tensor(0.0386),\n",
              " 'bin': tensor(-0.1001),\n",
              " 'binoculars': tensor(-0.0448),\n",
              " 'birthday': tensor(-0.0948),\n",
              " 'bit': tensor(0.0322),\n",
              " 'black': tensor(0.0838),\n",
              " 'blankets': tensor(0.1370),\n",
              " 'blew': tensor(0.0519),\n",
              " 'blood': tensor(0.0101),\n",
              " 'bloody': tensor(-0.0501),\n",
              " 'bludger': tensor(-0.0098),\n",
              " 'bludgers': tensor(0.0232),\n",
              " 'blue': tensor(-0.0520),\n",
              " 'board': tensor(0.1266),\n",
              " 'boat': tensor(-0.0009),\n",
              " 'boats': tensor(0.0611),\n",
              " 'body': tensor(0.0327),\n",
              " 'book': tensor(0.0128),\n",
              " 'books': tensor(-0.0061),\n",
              " 'both': tensor(-0.0454),\n",
              " 'bottle': tensor(-0.0635),\n",
              " 'bottles': tensor(-0.0351),\n",
              " 'bottom': tensor(-0.0304),\n",
              " 'bought': tensor(-0.0173),\n",
              " 'bowed': tensor(-0.0385),\n",
              " 'box': tensor(0.0889),\n",
              " 'boy': tensor(0.0637),\n",
              " 'boys': tensor(-0.0409),\n",
              " 'branches': tensor(-0.0300),\n",
              " 'brave': tensor(-0.0445),\n",
              " 'break': tensor(-0.1701),\n",
              " 'breakfast': tensor(-0.1382),\n",
              " 'breaking': tensor(0.0973),\n",
              " 'breath': tensor(0.0092),\n",
              " 'breathing': tensor(0.0557),\n",
              " 'bright': tensor(0.0553),\n",
              " 'brilliant': tensor(-0.2000),\n",
              " 'broke': tensor(-0.0488),\n",
              " 'broken': tensor(-0.1862),\n",
              " 'broom': tensor(0.0327),\n",
              " 'brooms': tensor(0.0370),\n",
              " 'broomstick': tensor(-0.0957),\n",
              " 'broomsticks': tensor(-0.1349),\n",
              " 'brother': tensor(-0.0392),\n",
              " 'brothers': tensor(0.1093),\n",
              " 'brought': tensor(-0.0898),\n",
              " 'brown': tensor(-0.0135),\n",
              " 'burst': tensor(0.2581),\n",
              " 'business': tensor(0.0179),\n",
              " 'busy': tensor(-0.1063),\n",
              " 'but': tensor(-0.0052),\n",
              " 'buy': tensor(0.0197),\n",
              " 'by': tensor(-0.1452),\n",
              " 'cake': tensor(-0.0895),\n",
              " 'cakes': tensor(-0.0798),\n",
              " 'call': tensor(-0.0420),\n",
              " 'called': tensor(-0.1561),\n",
              " 'came': tensor(-0.1421),\n",
              " 'can': tensor(0.0224),\n",
              " 'cant': tensor(-0.0933),\n",
              " 'car': tensor(-0.1288),\n",
              " 'card': tensor(-0.0345),\n",
              " 'care': tensor(-0.0479),\n",
              " 'careful': tensor(-0.0793),\n",
              " 'carefully': tensor(-0.0828),\n",
              " 'carried': tensor(0.0066),\n",
              " 'carrying': tensor(-0.0110),\n",
              " 'cart': tensor(-0.0468),\n",
              " 'case': tensor(-0.0139),\n",
              " 'castle': tensor(0.0476),\n",
              " 'cat': tensor(0.2042),\n",
              " 'catch': tensor(-0.1062),\n",
              " 'cats': tensor(0.0437),\n",
              " 'caught': tensor(-0.0957),\n",
              " 'cauldron': tensor(0.0184),\n",
              " 'cause': tensor(0.0823),\n",
              " 'ceiling': tensor(0.1682),\n",
              " 'centaur': tensor(-0.0256),\n",
              " 'certainly': tensor(-0.1475),\n",
              " 'chair': tensor(-0.0477),\n",
              " 'chamber': tensor(0.1215),\n",
              " 'chance': tensor(-0.0344),\n",
              " 'change': tensor(-0.0795),\n",
              " 'changed': tensor(0.0103),\n",
              " 'chapter': tensor(0.0827),\n",
              " 'charlie': tensor(-0.0549),\n",
              " 'charlies': tensor(0.1123),\n",
              " 'charms': tensor(-0.0549),\n",
              " 'chasers': tensor(0.1443),\n",
              " 'cheer': tensor(0.0298),\n",
              " 'cheering': tensor(-0.0859),\n",
              " 'cheers': tensor(0.0898),\n",
              " 'chess': tensor(-0.0976),\n",
              " 'chessmen': tensor(-0.0465),\n",
              " 'chest': tensor(-0.1112),\n",
              " 'chocolate': tensor(-0.1011),\n",
              " 'christmas': tensor(0.0516),\n",
              " 'chuckled': tensor(-0.1308),\n",
              " 'clambered': tensor(0.1382),\n",
              " 'clapped': tensor(-0.0572),\n",
              " 'class': tensor(0.0750),\n",
              " 'classes': tensor(-0.2277),\n",
              " 'classroom': tensor(-0.0553),\n",
              " 'clean': tensor(-0.1626),\n",
              " 'clear': tensor(-0.0584),\n",
              " 'cleared': tensor(-0.1805),\n",
              " 'clearing': tensor(0.0727),\n",
              " 'clearly': tensor(-0.1032),\n",
              " 'clicked': tensor(-0.0202),\n",
              " 'climbed': tensor(0.0186),\n",
              " 'cloak': tensor(0.0056),\n",
              " 'close': tensor(0.1250),\n",
              " 'closer': tensor(-0.1059),\n",
              " 'clothes': tensor(-0.0519),\n",
              " 'club': tensor(0.0573),\n",
              " 'clutching': tensor(-0.0793),\n",
              " 'coat': tensor(-0.0218),\n",
              " 'cold': tensor(-0.0764),\n",
              " 'come': tensor(0.1251),\n",
              " 'coming': tensor(-0.0300),\n",
              " 'common': tensor(0.0077),\n",
              " 'compartment': tensor(0.0652),\n",
              " 'completely': tensor(-0.0105),\n",
              " 'computer': tensor(0.1738),\n",
              " 'control': tensor(-0.2160),\n",
              " 'corner': tensor(0.0882),\n",
              " 'corridor': tensor(-0.1419),\n",
              " 'corridors': tensor(-0.2164),\n",
              " 'could': tensor(-0.0384),\n",
              " 'couldnt': tensor(-0.0767),\n",
              " 'couple': tensor(0.1648),\n",
              " 'courage': tensor(-0.0881),\n",
              " 'course': tensor(-0.1552),\n",
              " 'covered': tensor(-0.0311),\n",
              " 'crabbe': tensor(0.0814),\n",
              " 'crack': tensor(-0.0268),\n",
              " 'crash': tensor(-0.0563),\n",
              " 'crate': tensor(0.0059),\n",
              " 'crept': tensor(-0.1575),\n",
              " 'cried': tensor(-0.0943),\n",
              " 'cross': tensor(-0.0206),\n",
              " 'crossed': tensor(-0.0874),\n",
              " 'crowd': tensor(-0.0483),\n",
              " 'cry': tensor(0.0752),\n",
              " 'crying': tensor(-0.0275),\n",
              " 'cup': tensor(0.0355),\n",
              " 'cupboard': tensor(0.1278),\n",
              " 'curious': tensor(-0.0620),\n",
              " 'curse': tensor(-0.1309),\n",
              " 'cut': tensor(-0.0873),\n",
              " 'dad': tensor(0.1279),\n",
              " 'damp': tensor(0.0455),\n",
              " 'dangerous': tensor(-0.1231),\n",
              " 'dare': tensor(-0.0944),\n",
              " 'dark': tensor(-0.1665),\n",
              " 'darkly': tensor(0.0020),\n",
              " 'darkness': tensor(-0.0424),\n",
              " 'day': tensor(0.0259),\n",
              " 'days': tensor(-0.0503),\n",
              " 'dead': tensor(0.0377),\n",
              " 'dean': tensor(0.0651),\n",
              " 'dear': tensor(-0.0318),\n",
              " 'death': tensor(-0.0366),\n",
              " 'decided': tensor(-0.2005),\n",
              " 'deep': tensor(0.1340),\n",
              " 'delighted': tensor(0.1790),\n",
              " 'desk': tensor(-0.0972),\n",
              " 'desperate': tensor(-0.0776),\n",
              " 'diagon': tensor(-0.0612),\n",
              " 'did': tensor(0.0887),\n",
              " 'didnt': tensor(-0.0779),\n",
              " 'die': tensor(-0.0670),\n",
              " 'died': tensor(-0.1928),\n",
              " 'difference': tensor(-0.0645),\n",
              " 'different': tensor(0.0314),\n",
              " 'difficult': tensor(-0.0783),\n",
              " 'dinner': tensor(-0.0396),\n",
              " 'direction': tensor(0.0658),\n",
              " 'disappeared': tensor(-0.0736),\n",
              " 'dived': tensor(-0.0017),\n",
              " 'do': tensor(-0.0122),\n",
              " 'does': tensor(0.0737),\n",
              " 'doesnt': tensor(0.1035),\n",
              " 'dog': tensor(-0.0863),\n",
              " 'dogs': tensor(-0.0304),\n",
              " 'doing': tensor(0.0395),\n",
              " 'don': tensor(0.0811),\n",
              " 'done': tensor(0.0635),\n",
              " 'dont': tensor(0.0222),\n",
              " 'door': tensor(-0.0048),\n",
              " 'doors': tensor(0.1238),\n",
              " 'doorway': tensor(-0.1066),\n",
              " 'dormitory': tensor(0.0088),\n",
              " 'down': tensor(0.0077),\n",
              " 'draco': tensor(-0.0948),\n",
              " 'dragged': tensor(-0.0955),\n",
              " 'dragon': tensor(0.0313),\n",
              " 'dragons': tensor(-0.0249),\n",
              " 'dream': tensor(-0.0856),\n",
              " 'dressed': tensor(-0.0222),\n",
              " 'drew': tensor(-0.0156),\n",
              " 'drills': tensor(-0.0393),\n",
              " 'drink': tensor(0.0118),\n",
              " 'drive': tensor(0.0274),\n",
              " 'drop': tensor(0.0340),\n",
              " 'dropped': tensor(0.1188),\n",
              " 'drove': tensor(0.0263),\n",
              " 'dudley': tensor(0.0211),\n",
              " 'dudleys': tensor(0.1443),\n",
              " 'dumbledore': tensor(-0.0548),\n",
              " 'dumbledores': tensor(0.0620),\n",
              " 'dungeons': tensor(-0.1008),\n",
              " 'dunno': tensor(-0.1715),\n",
              " 'during': tensor(0.0389),\n",
              " 'dursley': tensor(0.0677),\n",
              " 'dursleys': tensor(0.0328),\n",
              " 'each': tensor(-0.1103),\n",
              " 'eagerly': tensor(-0.0936),\n",
              " 'ear': tensor(0.1800),\n",
              " 'ears': tensor(0.0520),\n",
              " 'earth': tensor(0.0201),\n",
              " 'easily': tensor(-0.0095),\n",
              " 'easy': tensor(0.0964),\n",
              " 'eat': tensor(0.0171),\n",
              " 'eating': tensor(0.1581),\n",
              " 'edge': tensor(-0.0459),\n",
              " 'egg': tensor(-0.0537),\n",
              " 'eh': tensor(0.0024),\n",
              " 'either': tensor(-0.0823),\n",
              " 'eleven': tensor(0.0236),\n",
              " 'else': tensor(0.0954),\n",
              " 'em': tensor(0.0199),\n",
              " 'empty': tensor(0.0905),\n",
              " 'end': tensor(0.0688),\n",
              " 'enough': tensor(0.0134),\n",
              " 'entered': tensor(-0.0099),\n",
              " 'entrance': tensor(-0.0057),\n",
              " 'envelope': tensor(-0.1363),\n",
              " 'er': tensor(0.0047),\n",
              " 'erised': tensor(0.0964),\n",
              " 'even': tensor(-0.1615),\n",
              " 'evening': tensor(    0.0000),\n",
              " 'ever': tensor(-0.0608),\n",
              " 'every': tensor(-0.1069),\n",
              " 'everybody': tensor(0.1751),\n",
              " 'everyone': tensor(0.0837),\n",
              " 'everything': tensor(0.0968),\n",
              " 'everywhere': tensor(-0.0307),\n",
              " 'evil': tensor(0.0866),\n",
              " 'exactly': tensor(-0.0818),\n",
              " 'exam': tensor(0.0574),\n",
              " 'exams': tensor(-0.0758),\n",
              " 'excellent': tensor(-0.0398),\n",
              " 'except': tensor(-0.0791),\n",
              " 'excitedly': tensor(0.1191),\n",
              " 'excuse': tensor(0.0709),\n",
              " 'expect': tensor(-0.0231),\n",
              " 'expected': tensor(-0.0448),\n",
              " 'expelled': tensor(-0.0205),\n",
              " 'explain': tensor(0.0364),\n",
              " 'extra': tensor(0.0367),\n",
              " 'eye': tensor(-0.0773),\n",
              " 'eyes': tensor(0.1576),\n",
              " 'face': tensor(-0.0692),\n",
              " 'faces': tensor(0.0720),\n",
              " 'facing': tensor(0.0741),\n",
              " 'fact': tensor(-0.0489),\n",
              " 'faded': tensor(0.0640),\n",
              " 'fall': tensor(0.0632),\n",
              " 'fallen': tensor(-0.1473),\n",
              " 'families': tensor(0.0711),\n",
              " 'family': tensor(0.0293),\n",
              " 'famous': tensor(-0.0496),\n",
              " 'fang': tensor(0.0022),\n",
              " 'fangs': tensor(-0.0718),\n",
              " 'far': tensor(-0.1476),\n",
              " 'fast': tensor(-0.0472),\n",
              " 'fat': tensor(0.1403),\n",
              " 'father': tensor(0.1080),\n",
              " 'fathers': tensor(-0.0019),\n",
              " 'favorite': tensor(0.0896),\n",
              " 'fear': tensor(-0.0534),\n",
              " 'feast': tensor(0.0316),\n",
              " 'feather': tensor(0.0416),\n",
              " 'feel': tensor(0.0321),\n",
              " 'feeling': tensor(0.1697),\n",
              " 'feet': tensor(-0.1472),\n",
              " 'fell': tensor(-0.2159),\n",
              " 'felt': tensor(-0.0899),\n",
              " 'fer': tensor(-0.0863),\n",
              " 'few': tensor(-0.0005),\n",
              " 'field': tensor(0.1690),\n",
              " 'fifty': tensor(-0.0076),\n",
              " 'fight': tensor(-0.0352),\n",
              " 'fighting': tensor(0.0837),\n",
              " 'figure': tensor(0.0081),\n",
              " 'filch': tensor(-0.0381),\n",
              " 'filled': tensor(0.1544),\n",
              " 'finally': tensor(-0.0548),\n",
              " 'find': tensor(-0.0467),\n",
              " 'finding': tensor(0.1224),\n",
              " 'fine': tensor(0.0279),\n",
              " 'fingers': tensor(0.1218),\n",
              " 'finished': tensor(0.0565),\n",
              " 'finnigan': tensor(-0.0856),\n",
              " 'fire': tensor(-0.2356),\n",
              " 'firenze': tensor(-0.1359),\n",
              " 'firs': tensor(-0.0654),\n",
              " 'first': tensor(-0.0084),\n",
              " 'five': tensor(0.1207),\n",
              " 'fixed': tensor(-0.0164),\n",
              " 'flamel': tensor(-0.0623),\n",
              " 'flames': tensor(0.1103),\n",
              " 'flash': tensor(0.1171),\n",
              " 'flat': tensor(-0.0548),\n",
              " 'flavor': tensor(0.1057),\n",
              " 'flew': tensor(0.0882),\n",
              " 'flint': tensor(0.0179),\n",
              " 'flitwick': tensor(-0.1314),\n",
              " 'floating': tensor(0.0532),\n",
              " 'floor': tensor(0.0236),\n",
              " 'fluffy': tensor(0.0036),\n",
              " 'flute': tensor(0.0551),\n",
              " 'fly': tensor(-0.0607),\n",
              " 'flying': tensor(-0.1637),\n",
              " 'follow': tensor(-0.1538),\n",
              " 'followed': tensor(-0.0171),\n",
              " 'following': tensor(0.0594),\n",
              " 'food': tensor(-0.0865),\n",
              " 'foot': tensor(-0.0121),\n",
              " 'footsteps': tensor(-0.0170),\n",
              " 'for': tensor(0.0382),\n",
              " 'forbidden': tensor(0.1216),\n",
              " 'force': tensor(0.0760),\n",
              " 'forehead': tensor(0.1021),\n",
              " 'forest': tensor(-0.0384),\n",
              " 'forget': tensor(-0.0534),\n",
              " 'forgotten': tensor(-0.0012),\n",
              " 'forward': tensor(-0.1550),\n",
              " 'found': tensor(-0.0975),\n",
              " 'four': tensor(-0.0502),\n",
              " 'fred': tensor(0.0517),\n",
              " 'free': tensor(0.2263),\n",
              " 'friend': tensor(0.1439),\n",
              " 'friends': tensor(0.0118),\n",
              " 'frog': tensor(0.0794),\n",
              " 'frogs': tensor(0.0349),\n",
              " 'from': tensor(-0.0949),\n",
              " 'front': tensor(-0.0270),\n",
              " 'full': tensor(-0.0954),\n",
              " 'fun': tensor(0.0612),\n",
              " 'funny': tensor(0.0149),\n",
              " 'furious': tensor(-0.0757),\n",
              " 'furiously': tensor(-0.0126),\n",
              " 'game': tensor(-0.1086),\n",
              " 'garden': tensor(0.1136),\n",
              " 'gasped': tensor(0.0259),\n",
              " 'gave': tensor(0.2299),\n",
              " 'gently': tensor(-0.1463),\n",
              " 'george': tensor(-0.0896),\n",
              " 'get': tensor(0.1606),\n",
              " 'gets': tensor(0.0168),\n",
              " 'gettin': tensor(0.0143),\n",
              " 'getting': tensor(-0.1196),\n",
              " 'ghost': tensor(0.0248),\n",
              " 'ghosts': tensor(-0.0586),\n",
              " 'giant': tensor(0.0395),\n",
              " 'girl': tensor(0.0955),\n",
              " 'girls': tensor(0.0557),\n",
              " 'give': tensor(-0.0919),\n",
              " 'given': tensor(0.0874),\n",
              " 'giving': tensor(-0.0744),\n",
              " 'glad': tensor(-0.0669),\n",
              " 'glass': tensor(0.0440),\n",
              " 'glasses': tensor(-0.0701),\n",
              " 'go': tensor(0.1249),\n",
              " 'goal': tensor(0.0763),\n",
              " 'goblin': tensor(0.2236),\n",
              " 'goblins': tensor(-0.0609),\n",
              " 'goes': tensor(-0.0551),\n",
              " 'going': tensor(-0.0067),\n",
              " 'gold': tensor(-0.0285),\n",
              " 'golden': tensor(-0.0491),\n",
              " 'gone': tensor(-0.0386),\n",
              " 'good': tensor(-0.0189),\n",
              " 'goodbye': tensor(-0.0316),\n",
              " 'got': tensor(-0.0653),\n",
              " 'gotta': tensor(0.1073),\n",
              " 'gotten': tensor(-0.0914),\n",
              " 'goyle': tensor(0.0105),\n",
              " 'grab': tensor(-0.0573),\n",
              " 'grabbed': tensor(0.0246),\n",
              " 'granger': tensor(-0.1496),\n",
              " 'grass': tensor(0.0250),\n",
              " 'gray': tensor(-0.0800),\n",
              " 'great': tensor(-0.0865),\n",
              " 'green': tensor(0.0047),\n",
              " 'grin': tensor(-0.0361),\n",
              " 'gringotts': tensor(0.1012),\n",
              " 'griphook': tensor(-0.0588),\n",
              " 'ground': tensor(-0.0217),\n",
              " 'grounds': tensor(-0.0245),\n",
              " 'growled': tensor(-0.1622),\n",
              " 'grunted': tensor(0.0973),\n",
              " 'gryffindor': tensor(0.0733),\n",
              " 'gryffindors': tensor(0.0696),\n",
              " 'guard': tensor(0.0721),\n",
              " 'guarding': tensor(0.0667),\n",
              " 'h': tensor(-0.0517),\n",
              " 'had': tensor(0.0489),\n",
              " 'hadnt': tensor(0.0834),\n",
              " 'hagrid': tensor(0.1807),\n",
              " 'hagrids': tensor(0.0184),\n",
              " 'hair': tensor(-0.2474),\n",
              " 'half': tensor(-0.1339),\n",
              " 'halfway': tensor(0.0101),\n",
              " 'hall': tensor(0.1238),\n",
              " 'halloween': tensor(0.0018),\n",
              " 'hand': tensor(0.1789),\n",
              " 'handed': tensor(-0.1294),\n",
              " 'handle': tensor(0.1443),\n",
              " 'hands': tensor(0.0648),\n",
              " 'hang': tensor(0.1103),\n",
              " 'hanging': tensor(-0.1382),\n",
              " 'happen': tensor(-0.0978),\n",
              " 'happened': tensor(-0.0108),\n",
              " 'happy': tensor(0.0109),\n",
              " 'hard': tensor(-0.1499),\n",
              " 'harder': tensor(0.1992),\n",
              " 'hardly': tensor(0.1077),\n",
              " 'harry': tensor(0.9005),\n",
              " 'harrys': tensor(-0.0666),\n",
              " 'has': tensor(-0.0209),\n",
              " 'hasnt': tensor(-0.1235),\n",
              " 'hat': tensor(-0.1716),\n",
              " 'hate': tensor(0.0115),\n",
              " 'hated': tensor(-0.1250),\n",
              " 'have': tensor(0.0702),\n",
              " 'havent': tensor(0.0097),\n",
              " 'having': tensor(-0.0959),\n",
              " 'he': tensor(-0.0482),\n",
              " 'head': tensor(-0.0885),\n",
              " 'headless': tensor(0.0889),\n",
              " 'heads': tensor(0.1194),\n",
              " 'hear': tensor(0.0420),\n",
              " 'heard': tensor(-0.0547),\n",
              " 'heart': tensor(0.0117),\n",
              " 'heavy': tensor(0.1247),\n",
              " 'hed': tensor(-0.0894),\n",
              " 'hedwig': tensor(-0.0687),\n",
              " 'held': tensor(-0.0410),\n",
              " 'hell': tensor(-0.0720),\n",
              " 'help': tensor(0.1479),\n",
              " 'her': tensor(0.0291),\n",
              " 'here': tensor(-0.0602),\n",
              " 'hermione': tensor(0.3123),\n",
              " 'hermiones': tensor(0.0331),\n",
              " 'herself': tensor(0.2823),\n",
              " 'hes': tensor(0.0556),\n",
              " 'hidden': tensor(0.0777),\n",
              " 'hide': tensor(0.1334),\n",
              " 'hiding': tensor(0.0032),\n",
              " 'high': tensor(0.0548),\n",
              " 'higher': tensor(0.0870),\n",
              " 'him': tensor(0.0475),\n",
              " 'himself': tensor(0.0129),\n",
              " 'his': tensor(0.0316),\n",
              " 'hissed': tensor(-0.1776),\n",
              " 'history': tensor(0.0401),\n",
              " 'hit': tensor(0.1029),\n",
              " 'hogwarts': tensor(-0.1009),\n",
              " 'hold': tensor(-0.0918),\n",
              " 'holding': tensor(-0.0630),\n",
              " 'hole': tensor(-0.1231),\n",
              " 'holidays': tensor(0.0431),\n",
              " 'home': tensor(0.1971),\n",
              " 'homework': tensor(0.0560),\n",
              " 'honestly': tensor(0.0866),\n",
              " 'hooch': tensor(0.1638),\n",
              " 'hoops': tensor(0.1584),\n",
              " 'hope': tensor(0.0712),\n",
              " 'hoping': tensor(0.1471),\n",
              " 'horrible': tensor(0.0785),\n",
              " 'horror': tensor(-0.1694),\n",
              " 'hospital': tensor(0.1185),\n",
              " 'hot': tensor(0.0114),\n",
              " 'hour': tensor(-0.0228),\n",
              " 'hours': tensor(-0.1532),\n",
              " 'house': tensor(-0.1108),\n",
              " 'houses': tensor(0.0447),\n",
              " 'how': tensor(-0.0856),\n",
              " 'however': tensor(0.0312),\n",
              " 'howling': tensor(0.0019),\n",
              " 'hufflepuff': tensor(-0.0261),\n",
              " 'huge': tensor(-0.2347),\n",
              " 'human': tensor(0.1992),\n",
              " 'hundred': tensor(0.0042),\n",
              " 'hundreds': tensor(0.0475),\n",
              " 'hung': tensor(-0.1246),\n",
              " 'hungry': tensor(-0.0213),\n",
              " 'hurried': tensor(0.0121),\n",
              " 'hurry': tensor(-0.0257),\n",
              " 'hurrying': tensor(0.0463),\n",
              " 'hurt': tensor(-0.0549),\n",
              " 'hut': tensor(0.0772),\n",
              " 'i': tensor(0.1745),\n",
              " 'ice': tensor(0.2036),\n",
              " 'id': tensor(-0.0137),\n",
              " 'idea': tensor(-0.0388),\n",
              " 'if': tensor(0.0233),\n",
              " 'ignored': tensor(-0.0692),\n",
              " 'ill': tensor(0.1173),\n",
              " 'im': tensor(0.1636),\n",
              " 'imagine': tensor(-0.0818),\n",
              " 'important': tensor(-0.1160),\n",
              " 'in': tensor(-0.0108),\n",
              " 'inches': tensor(0.0550),\n",
              " 'indeed': tensor(-0.1089),\n",
              " 'inside': tensor(0.0166),\n",
              " 'instead': tensor(-0.1085),\n",
              " 'interested': tensor(0.0658),\n",
              " 'interesting': tensor(0.2224),\n",
              " 'into': tensor(-0.0038),\n",
              " 'invisibility': tensor(0.1291),\n",
              " 'invisible': tensor(-0.1166),\n",
              " 'is': tensor(0.0176),\n",
              " 'isnt': tensor(0.1076),\n",
              " 'it': tensor(-0.0921),\n",
              " 'itll': tensor(0.0725),\n",
              " 'its': tensor(-0.0742),\n",
              " 'itself': tensor(-0.0085),\n",
              " 'ive': tensor(-0.1646),\n",
              " 'jerked': tensor(-0.0158),\n",
              " 'job': tensor(0.1002),\n",
              " 'join': tensor(-0.1956),\n",
              " 'joined': tensor(-0.0577),\n",
              " 'joke': tensor(-0.0113),\n",
              " 'jordan': tensor(-0.0250),\n",
              " 'jump': tensor(0.0373),\n",
              " 'jumped': tensor(0.0514),\n",
              " 'jus': tensor(-0.0612),\n",
              " 'just': tensor(0.1287),\n",
              " 'keep': tensor(0.0935),\n",
              " 'keeper': tensor(0.0112),\n",
              " 'keeping': tensor(0.1596),\n",
              " 'kept': tensor(0.1419),\n",
              " 'key': tensor(0.0174),\n",
              " 'keys': tensor(0.1634),\n",
              " 'kicked': tensor(0.0910),\n",
              " 'kill': tensor(0.0657),\n",
              " 'killed': tensor(0.0789),\n",
              " 'kind': tensor(0.1168),\n",
              " 'kings': tensor(-0.0457),\n",
              " 'kitchen': tensor(-0.0666),\n",
              " 'knees': tensor(-0.1767),\n",
              " 'knew': tensor(0.1462),\n",
              " 'knight': tensor(-0.0460),\n",
              " 'knock': tensor(0.0297),\n",
              " 'knocked': tensor(-0.0200),\n",
              " 'knocking': tensor(-0.0752),\n",
              " 'know': tensor(-0.0116),\n",
              " 'knowing': tensor(-0.2162),\n",
              " 'known': tensor(-0.0343),\n",
              " 'knows': tensor(-0.1092),\n",
              " 'knuts': tensor(-0.0408),\n",
              " 'lady': tensor(-0.0087),\n",
              " 'lake': tensor(-0.0053),\n",
              " 'lamp': tensor(-0.1315),\n",
              " 'landed': tensor(0.0159),\n",
              " 'large': tensor(-0.0104),\n",
              " 'last': tensor(0.0778),\n",
              " 'late': tensor(0.0146),\n",
              " 'later': tensor(-0.0007),\n",
              " 'laugh': tensor(0.0799),\n",
              " 'laughed': tensor(-0.0131),\n",
              " 'laughing': tensor(-0.1108),\n",
              " 'laughter': tensor(-0.0270),\n",
              " 'lay': tensor(-0.0203),\n",
              " 'lead': tensor(-0.0890),\n",
              " 'leading': tensor(0.0055),\n",
              " 'leaky': tensor(0.0324),\n",
              " 'leaned': tensor(0.0650),\n",
              " 'leapt': tensor(0.0121),\n",
              " 'learn': tensor(0.1453),\n",
              " 'learned': tensor(-0.0678),\n",
              " 'least': tensor(0.0469),\n",
              " 'leave': tensor(-0.0379),\n",
              " 'leaves': tensor(0.0493),\n",
              " 'leaving': tensor(-0.1065),\n",
              " 'led': tensor(-0.0369),\n",
              " 'lee': tensor(0.0783),\n",
              " 'left': tensor(-0.0063),\n",
              " 'leg': tensor(0.0023),\n",
              " 'legs': tensor(-0.0664),\n",
              " 'lemon': tensor(-0.0204),\n",
              " 'less': tensor(0.0841),\n",
              " 'lesson': tensor(-0.0015),\n",
              " 'lessons': tensor(0.0252),\n",
              " 'let': tensor(-0.0243),\n",
              " 'lets': tensor(0.1101),\n",
              " 'letter': tensor(0.1361),\n",
              " 'letters': tensor(-0.0739),\n",
              " 'library': tensor(0.0463),\n",
              " 'lie': tensor(0.1145),\n",
              " 'life': tensor(0.0760),\n",
              " 'light': tensor(0.0054),\n",
              " 'lightning': tensor(0.1007),\n",
              " 'like': tensor(0.0432),\n",
              " 'liked': tensor(-0.1122),\n",
              " 'lily': tensor(0.0409),\n",
              " 'line': tensor(-0.0447),\n",
              " 'lips': tensor(0.0884),\n",
              " 'list': tensor(0.0015),\n",
              " 'listen': tensor(0.0990),\n",
              " 'listening': tensor(0.0401),\n",
              " 'lit': tensor(0.0445),\n",
              " 'little': tensor(0.2401),\n",
              " 'live': tensor(-0.0556),\n",
              " 'lived': tensor(0.1544),\n",
              " 'living': tensor(0.0912),\n",
              " 'loads': tensor(0.0338),\n",
              " 'lock': tensor(-0.0202),\n",
              " 'locked': tensor(0.0713),\n",
              " 'london': tensor(0.1161),\n",
              " 'long': tensor(0.0800),\n",
              " 'longbottom': tensor(-0.1442),\n",
              " 'look': tensor(0.0098),\n",
              " 'looked': tensor(0.0591),\n",
              " 'looking': tensor(-0.0816),\n",
              " 'looks': tensor(0.0281),\n",
              " 'lose': tensor(-0.1939),\n",
              " 'losing': tensor(0.0401),\n",
              " 'lost': tensor(0.0326),\n",
              " 'lot': tensor(0.0811),\n",
              " 'lots': tensor(0.1037),\n",
              " 'loud': tensor(-0.1336),\n",
              " 'loudly': tensor(-0.1506),\n",
              " 'low': tensor(-0.1662),\n",
              " 'luck': tensor(-0.0969),\n",
              " 'lucky': tensor(-0.0844),\n",
              " 'lumpy': tensor(-0.0722),\n",
              " 'lurking': tensor(-0.0847),\n",
              " 'lying': tensor(0.2361),\n",
              " 'mad': tensor(0.1305),\n",
              " 'madam': tensor(0.0089),\n",
              " 'made': tensor(0.0253),\n",
              " 'magic': tensor(-0.0872),\n",
              " 'magical': tensor(0.0625),\n",
              " 'mail': tensor(0.0467),\n",
              " 'make': tensor(-0.0163),\n",
              " 'making': tensor(0.0214),\n",
              " 'malfoy': tensor(0.0405),\n",
              " 'malfoys': tensor(-0.0372),\n",
              " 'man': tensor(-0.0527),\n",
              " 'managed': tensor(-0.0630),\n",
              " 'many': tensor(-0.1794),\n",
              " 'marble': tensor(-0.0621),\n",
              " 'marched': tensor(-0.1335),\n",
              " 'match': tensor(-0.0694),\n",
              " 'matter': tensor(-0.0867),\n",
              " 'may': tensor(-0.0418),\n",
              " 'maybe': tensor(0.0107),\n",
              " 'mcgonagall': tensor(0.1080),\n",
              " 'mcgonagalls': tensor(-0.0747),\n",
              " 'me': tensor(-0.0521),\n",
              " 'mean': tensor(-0.1338),\n",
              " 'means': tensor(0.0754),\n",
              " 'meant': tensor(-0.0105),\n",
              " 'meet': tensor(-0.0254),\n",
              " 'mention': tensor(0.0948),\n",
              " 'met': tensor(0.0345),\n",
              " 'midair': tensor(0.1214),\n",
              " 'middle': tensor(-0.1547),\n",
              " 'midnight': tensor(-0.1051),\n",
              " 'might': tensor(0.1496),\n",
              " 'mind': tensor(0.0089),\n",
              " 'ministry': tensor(0.1226),\n",
              " 'minute': tensor(-0.0102),\n",
              " 'minutes': tensor(-0.0392),\n",
              " 'mirror': tensor(0.2513),\n",
              " 'miss': tensor(-0.0533),\n",
              " 'mistake': tensor(0.0785),\n",
              " 'moaned': tensor(0.0588),\n",
              " 'mom': tensor(-0.0860),\n",
              " 'moment': tensor(-0.1427),\n",
              " 'money': tensor(-0.0666),\n",
              " 'moonlight': tensor(-0.0513),\n",
              " 'more': tensor(0.0344),\n",
              " 'morning': tensor(-0.0151),\n",
              " 'most': tensor(-0.1033),\n",
              " 'mother': tensor(0.1255),\n",
              " 'mothers': tensor(-0.0732),\n",
              " 'motorcycle': tensor(0.0305),\n",
              " 'mountain': tensor(-0.0532),\n",
              " 'mouth': tensor(0.0978),\n",
              " 'move': tensor(-0.1269),\n",
              " 'moved': tensor(-0.0383),\n",
              " 'moving': tensor(-0.1070),\n",
              " 'mr': tensor(-0.1434),\n",
              " 'mrs': tensor(0.0294),\n",
              " 'much': tensor(-0.1315),\n",
              " 'muggle': tensor(0.0485),\n",
              " 'muggles': tensor(0.0779),\n",
              " 'murmured': tensor(-0.1764),\n",
              " 'must': tensor(-0.1423),\n",
              " 'mustache': tensor(-0.0217),\n",
              " 'mustve': tensor(0.0214),\n",
              " 'muttered': tensor(0.0158),\n",
              " 'muttering': tensor(0.0292),\n",
              " 'my': tensor(-0.1399),\n",
              " 'myself': tensor(-0.0946),\n",
              " 'mysterious': tensor(-0.0111),\n",
              " 'nah': tensor(0.0214),\n",
              " 'name': tensor(-0.0330),\n",
              " 'names': tensor(0.0008),\n",
              " 'narrow': tensor(0.0419),\n",
              " 'nasty': tensor(0.0591),\n",
              " 'near': tensor(-0.0816),\n",
              " 'nearer': tensor(-0.0903),\n",
              " 'nearest': tensor(0.0268),\n",
              " 'nearly': tensor(-0.1682),\n",
              " 'neck': tensor(0.0082),\n",
              " 'need': tensor(0.0444),\n",
              " 'needed': tensor(0.1657),\n",
              " 'needs': tensor(-0.1441),\n",
              " 'neither': tensor(-0.0537),\n",
              " 'nervous': tensor(-0.0051),\n",
              " 'nervously': tensor(0.2367),\n",
              " 'never': tensor(0.0920),\n",
              " 'neville': tensor(0.0449),\n",
              " 'nevilles': tensor(-0.2739),\n",
              " 'new': tensor(0.0094),\n",
              " 'news': tensor(-0.0561),\n",
              " 'newspaper': tensor(0.1322),\n",
              " 'next': tensor(0.0134),\n",
              " 'nice': tensor(-0.1275),\n",
              " 'nicolas': tensor(0.1464),\n",
              " 'night': tensor(-0.1564),\n",
              " 'nimbus': tensor(-0.0250),\n",
              " 'nine': tensor(0.0433),\n",
              " 'no': tensor(-0.0395),\n",
              " 'nobody': tensor(-0.0483),\n",
              " 'nodded': tensor(-0.0247),\n",
              " 'noise': tensor(0.0149),\n",
              " 'none': tensor(-0.0416),\n",
              " 'nor': tensor(0.0763),\n",
              " 'norbert': tensor(-0.1124),\n",
              " 'normal': tensor(-0.0101),\n",
              " 'norris': tensor(0.0532),\n",
              " 'nose': tensor(0.0076),\n",
              " 'noses': tensor(0.0744),\n",
              " 'nostrils': tensor(0.0162),\n",
              " 'not': tensor(0.1353),\n",
              " 'note': tensor(0.0994),\n",
              " 'notes': tensor(-0.0378),\n",
              " 'nothin': tensor(0.0008),\n",
              " 'nothing': tensor(0.0232),\n",
              " 'notice': tensor(-0.1192),\n",
              " 'noticed': tensor(-0.0228),\n",
              " 'noticing': tensor(0.0022),\n",
              " 'now': tensor(-0.0046),\n",
              " 'number': tensor(-0.0273),\n",
              " 'o': tensor(-0.0168),\n",
              " 'obviously': tensor(0.0052),\n",
              " 'oclock': tensor(-0.1103),\n",
              " 'odd': tensor(0.0648),\n",
              " 'of': tensor(-0.0793),\n",
              " 'off': tensor(-0.0667),\n",
              " 'often': tensor(-0.0474),\n",
              " 'oh': tensor(-0.0880),\n",
              " 'old': tensor(-0.2407),\n",
              " 'older': tensor(-0.1045),\n",
              " 'ollivander': tensor(0.0840),\n",
              " 'on': tensor(0.0900),\n",
              " 'once': tensor(-0.2136),\n",
              " 'one': tensor(0.0834),\n",
              " 'ones': tensor(0.0772),\n",
              " 'only': tensor(    0.0000),\n",
              " 'onto': tensor(0.1279),\n",
              " 'open': tensor(-0.1122),\n",
              " 'opened': tensor(-0.0798),\n",
              " 'opposite': tensor(0.0067),\n",
              " 'or': tensor(-0.0140),\n",
              " 'ordinary': tensor(-0.0514),\n",
              " 'other': tensor(-0.0744),\n",
              " 'others': tensor(-0.0191),\n",
              " 'our': tensor(0.0278),\n",
              " 'out': tensor(0.0252),\n",
              " 'outside': tensor(0.2347),\n",
              " 'outta': tensor(0.0778),\n",
              " 'over': tensor(0.2616),\n",
              " 'overhead': tensor(0.1266),\n",
              " 'owl': tensor(0.0775),\n",
              " 'owls': tensor(0.0812),\n",
              " 'own': tensor(-0.0051),\n",
              " 'pack': tensor(-0.1175),\n",
              " 'package': tensor(0.1132),\n",
              " 'packed': tensor(-0.1068),\n",
              " 'pain': tensor(0.0871),\n",
              " 'pair': tensor(0.1673),\n",
              " 'pale': tensor(-0.1805),\n",
              " 'panted': tensor(0.0877),\n",
              " 'paper': tensor(0.1007),\n",
              " 'parcel': tensor(0.0262),\n",
              " 'parchment': tensor(0.0608),\n",
              " 'parents': tensor(0.0718),\n",
              " 'particularly': tensor(-0.0502),\n",
              " 'passageway': tensor(0.0876),\n",
              " 'passed': tensor(-0.1439),\n",
              " 'passing': tensor(0.1441),\n",
              " 'past': tensor(0.0367),\n",
              " 'path': tensor(0.1061),\n",
              " 'patil': tensor(0.1095),\n",
              " 'peered': tensor(-0.1403),\n",
              " 'peering': tensor(0.0268),\n",
              " 'peeves': tensor(-0.1732),\n",
              " 'people': tensor(-0.0446),\n",
              " 'percy': tensor(-0.0914),\n",
              " 'perfect': tensor(0.1393),\n",
              " 'perhaps': tensor(0.0354),\n",
              " 'person': tensor(0.0376),\n",
              " 'petunia': tensor(-0.0477),\n",
              " 'picked': tensor(0.1266),\n",
              " 'piece': tensor(-0.0378),\n",
              " 'pieces': tensor(0.1086),\n",
              " 'piers': tensor(-0.0068),\n",
              " 'pig': tensor(0.0085),\n",
              " 'pile': tensor(-0.1333),\n",
              " 'piled': tensor(-0.0651),\n",
              " 'pink': tensor(0.0447),\n",
              " 'pinned': tensor(0.1016),\n",
              " 'place': tensor(0.1685),\n",
              " 'planets': tensor(0.0512),\n",
              " 'plant': tensor(0.0071),\n",
              " 'plates': tensor(-0.0553),\n",
              " 'platform': tensor(0.1552),\n",
              " 'platforms': tensor(0.2077),\n",
              " 'play': tensor(-0.0577),\n",
              " 'players': tensor(0.0530),\n",
              " 'playing': tensor(-0.0263),\n",
              " 'please': tensor(0.1073),\n",
              " 'pleased': tensor(-0.0518),\n",
              " 'pocket': tensor(-0.0598),\n",
              " 'pockets': tensor(0.0870),\n",
              " 'point': tensor(-0.0596),\n",
              " 'pointed': tensor(0.0713),\n",
              " 'pointing': tensor(0.0107),\n",
              " 'points': tensor(0.0463),\n",
              " 'pomfrey': tensor(-0.0149),\n",
              " 'poor': tensor(-0.0042),\n",
              " 'portrait': tensor(0.0353),\n",
              " 'possession': tensor(-0.0015),\n",
              " 'possible': tensor(0.1442),\n",
              " 'posts': tensor(-0.1115),\n",
              " 'potion': tensor(-0.0445),\n",
              " 'potions': tensor(-0.1027),\n",
              " 'potter': tensor(-0.0366),\n",
              " 'potters': tensor(0.0583),\n",
              " 'power': tensor(0.0466),\n",
              " 'powerful': tensor(-0.0654),\n",
              " 'practice': tensor(-0.0192),\n",
              " 'prefect': tensor(-0.0018),\n",
              " 'prefects': tensor(-0.0333),\n",
              " 'presents': tensor(0.0478),\n",
              " 'pressed': tensor(-0.0718),\n",
              " 'privet': tensor(0.0537),\n",
              " 'probably': tensor(0.0946),\n",
              " 'professor': tensor(-0.1031),\n",
              " 'properly': tensor(0.1434),\n",
              " 'proud': tensor(-0.1461),\n",
              " 'pull': tensor(-0.1266),\n",
              " 'pulled': tensor(-0.0392),\n",
              " 'pulling': tensor(-0.0819),\n",
              " 'purple': tensor(-0.1221),\n",
              " 'pushed': tensor(-0.0611),\n",
              " 'put': tensor(-0.1072),\n",
              " 'quaffle': tensor(-0.0349),\n",
              " 'question': tensor(0.0229),\n",
              " 'questions': tensor(0.2608),\n",
              " 'quick': tensor(-0.0167),\n",
              " 'quickly': tensor(0.0012),\n",
              " 'quidditch': tensor(0.0192),\n",
              " 'quiet': tensor(0.1022),\n",
              " 'quietly': tensor(0.0515),\n",
              " 'quills': tensor(0.0881),\n",
              " 'quirrell': tensor(0.0369),\n",
              " 'quirrells': tensor(-0.0793),\n",
              " 'quite': tensor(0.1084),\n",
              " 'racing': tensor(0.0702),\n",
              " 'raised': tensor(0.0510),\n",
              " 'ran': tensor(-0.0401),\n",
              " 'rang': tensor(-0.1277),\n",
              " 'rat': tensor(-0.0454),\n",
              " 'rather': tensor(-0.1646),\n",
              " 'ravenclaw': tensor(-0.0118),\n",
              " 'reached': tensor(-0.0054),\n",
              " 'read': tensor(0.0527),\n",
              " 'ready': tensor(-0.1158),\n",
              " 'real': tensor(0.0469),\n",
              " 'realize': tensor(-0.0637),\n",
              " 'realized': tensor(-0.0258),\n",
              " 'really': tensor(0.0168),\n",
              " 'reason': tensor(-0.0234),\n",
              " ...}"
            ]
          },
          "metadata": {},
          "execution_count": 23
        }
      ],
      "source": [
        "# we can get the dot product value for every other words in the vocab\n",
        "# to get  P(word | harry)\n",
        "word_dot_dict = {}\n",
        "for word in filtered_vocab:\n",
        "  w_idx = word2idx[word]\n",
        "  w_vector = word_vectors[w_idx]\n",
        "  word_dot_dict[word] = sum(w_vector * harry)\n",
        "word_dot_dict"
      ]
    },
    {
      "cell_type": "markdown",
      "metadata": {
        "id": "EXrRV6xoyhDY"
      },
      "source": [
        "Now, let's convert these dot products to probabilities using the softmax function:\n",
        "- We have to convert our prediction into probability distribution to get P(word|harry) so that sum of [P(a|harry), ..., P(potter|harry), ... P(ron|harry), ... ] = 1\n",
        "- current dot product value is any real number, sometimes called as logit\n",
        "  - logit from logistic regression. Some values that are not yet converted to 0-1 or value before sigmoid function\n",
        "  - every probability should be in range (0, 1) (greater than 0, smaller than 1)\n",
        "  - this can be handled by taking exponential of dot product values, divided by total sum\n",
        "  - This function is called **Softmax**\n",
        "\n",
        "- Why we use exponential?\n",
        "  - Because we want to make every probability in positive range while preserving the order\n"
      ]
    },
    {
      "cell_type": "code",
      "execution_count": 24,
      "metadata": {
        "id": "DQ1PUvuLyv6r",
        "colab": {
          "base_uri": "https://localhost:8080/"
        },
        "collapsed": true,
        "outputId": "40300b85-d315-47d7-d4e8-18a559511586"
      },
      "outputs": [
        {
          "output_type": "execute_result",
          "data": {
            "text/plain": [
              "{'a': tensor(0.0007),\n",
              " 'able': tensor(0.0007),\n",
              " 'abou': tensor(0.0006),\n",
              " 'about': tensor(0.0007),\n",
              " 'above': tensor(0.0006),\n",
              " 'across': tensor(0.0006),\n",
              " 'added': tensor(0.0007),\n",
              " 'afford': tensor(0.0007),\n",
              " 'afraid': tensor(0.0007),\n",
              " 'after': tensor(0.0007),\n",
              " 'afternoon': tensor(0.0006),\n",
              " 'again': tensor(0.0006),\n",
              " 'against': tensor(0.0007),\n",
              " 'ages': tensor(0.0006),\n",
              " 'ago': tensor(0.0007),\n",
              " 'agreed': tensor(0.0006),\n",
              " 'ah': tensor(0.0007),\n",
              " 'ahead': tensor(0.0006),\n",
              " 'air': tensor(0.0007),\n",
              " 'albus': tensor(0.0007),\n",
              " 'alive': tensor(0.0006),\n",
              " 'all': tensor(0.0007),\n",
              " 'alley': tensor(0.0005),\n",
              " 'allowed': tensor(0.0006),\n",
              " 'almost': tensor(0.0007),\n",
              " 'alone': tensor(0.0007),\n",
              " 'along': tensor(0.0006),\n",
              " 'already': tensor(0.0007),\n",
              " 'also': tensor(0.0007),\n",
              " 'although': tensor(0.0006),\n",
              " 'always': tensor(0.0008),\n",
              " 'am': tensor(0.0007),\n",
              " 'an': tensor(0.0007),\n",
              " 'and': tensor(0.0006),\n",
              " 'angrily': tensor(0.0006),\n",
              " 'angry': tensor(0.0007),\n",
              " 'another': tensor(0.0006),\n",
              " 'answer': tensor(0.0007),\n",
              " 'any': tensor(0.0007),\n",
              " 'anymore': tensor(0.0006),\n",
              " 'anyone': tensor(0.0006),\n",
              " 'anythin': tensor(0.0006),\n",
              " 'anything': tensor(0.0007),\n",
              " 'anyway': tensor(0.0007),\n",
              " 'anywhere': tensor(0.0006),\n",
              " 'apart': tensor(0.0007),\n",
              " 'appeared': tensor(0.0006),\n",
              " 'are': tensor(0.0007),\n",
              " 'arent': tensor(0.0007),\n",
              " 'arm': tensor(0.0006),\n",
              " 'armor': tensor(0.0006),\n",
              " 'arms': tensor(0.0006),\n",
              " 'around': tensor(0.0006),\n",
              " 'arrived': tensor(0.0007),\n",
              " 'arts': tensor(0.0006),\n",
              " 'as': tensor(0.0008),\n",
              " 'ask': tensor(0.0008),\n",
              " 'asked': tensor(0.0007),\n",
              " 'asking': tensor(0.0009),\n",
              " 'asleep': tensor(0.0006),\n",
              " 'at': tensor(0.0008),\n",
              " 'attention': tensor(0.0007),\n",
              " 'aunt': tensor(0.0006),\n",
              " 'awake': tensor(0.0006),\n",
              " 'away': tensor(0.0008),\n",
              " 'baby': tensor(0.0007),\n",
              " 'back': tensor(0.0006),\n",
              " 'backward': tensor(0.0008),\n",
              " 'bacon': tensor(0.0006),\n",
              " 'bad': tensor(0.0007),\n",
              " 'bag': tensor(0.0007),\n",
              " 'ball': tensor(0.0007),\n",
              " 'balls': tensor(0.0007),\n",
              " 'bane': tensor(0.0007),\n",
              " 'barrier': tensor(0.0007),\n",
              " 'be': tensor(0.0006),\n",
              " 'beans': tensor(0.0006),\n",
              " 'beard': tensor(0.0007),\n",
              " 'became': tensor(0.0006),\n",
              " 'because': tensor(0.0007),\n",
              " 'become': tensor(0.0006),\n",
              " 'bed': tensor(0.0006),\n",
              " 'bedroom': tensor(0.0007),\n",
              " 'been': tensor(0.0007),\n",
              " 'before': tensor(0.0007),\n",
              " 'began': tensor(0.0006),\n",
              " 'behind': tensor(0.0007),\n",
              " 'being': tensor(0.0007),\n",
              " 'believe': tensor(0.0007),\n",
              " 'below': tensor(0.0007),\n",
              " 'beneath': tensor(0.0007),\n",
              " 'bent': tensor(0.0007),\n",
              " 'best': tensor(0.0007),\n",
              " 'bet': tensor(0.0006),\n",
              " 'better': tensor(0.0006),\n",
              " 'between': tensor(0.0005),\n",
              " 'big': tensor(0.0006),\n",
              " 'bill': tensor(0.0007),\n",
              " 'bin': tensor(0.0006),\n",
              " 'binoculars': tensor(0.0006),\n",
              " 'birthday': tensor(0.0006),\n",
              " 'bit': tensor(0.0007),\n",
              " 'black': tensor(0.0007),\n",
              " 'blankets': tensor(0.0008),\n",
              " 'blew': tensor(0.0007),\n",
              " 'blood': tensor(0.0007),\n",
              " 'bloody': tensor(0.0006),\n",
              " 'bludger': tensor(0.0007),\n",
              " 'bludgers': tensor(0.0007),\n",
              " 'blue': tensor(0.0006),\n",
              " 'board': tensor(0.0007),\n",
              " 'boat': tensor(0.0007),\n",
              " 'boats': tensor(0.0007),\n",
              " 'body': tensor(0.0007),\n",
              " 'book': tensor(0.0007),\n",
              " 'books': tensor(0.0007),\n",
              " 'both': tensor(0.0006),\n",
              " 'bottle': tensor(0.0006),\n",
              " 'bottles': tensor(0.0006),\n",
              " 'bottom': tensor(0.0006),\n",
              " 'bought': tensor(0.0006),\n",
              " 'bowed': tensor(0.0006),\n",
              " 'box': tensor(0.0007),\n",
              " 'boy': tensor(0.0007),\n",
              " 'boys': tensor(0.0006),\n",
              " 'branches': tensor(0.0006),\n",
              " 'brave': tensor(0.0006),\n",
              " 'break': tensor(0.0006),\n",
              " 'breakfast': tensor(0.0006),\n",
              " 'breaking': tensor(0.0007),\n",
              " 'breath': tensor(0.0007),\n",
              " 'breathing': tensor(0.0007),\n",
              " 'bright': tensor(0.0007),\n",
              " 'brilliant': tensor(0.0005),\n",
              " 'broke': tensor(0.0006),\n",
              " 'broken': tensor(0.0005),\n",
              " 'broom': tensor(0.0007),\n",
              " 'brooms': tensor(0.0007),\n",
              " 'broomstick': tensor(0.0006),\n",
              " 'broomsticks': tensor(0.0006),\n",
              " 'brother': tensor(0.0006),\n",
              " 'brothers': tensor(0.0007),\n",
              " 'brought': tensor(0.0006),\n",
              " 'brown': tensor(0.0007),\n",
              " 'burst': tensor(0.0009),\n",
              " 'business': tensor(0.0007),\n",
              " 'busy': tensor(0.0006),\n",
              " 'but': tensor(0.0007),\n",
              " 'buy': tensor(0.0007),\n",
              " 'by': tensor(0.0006),\n",
              " 'cake': tensor(0.0006),\n",
              " 'cakes': tensor(0.0006),\n",
              " 'call': tensor(0.0006),\n",
              " 'called': tensor(0.0006),\n",
              " 'came': tensor(0.0006),\n",
              " 'can': tensor(0.0007),\n",
              " 'cant': tensor(0.0006),\n",
              " 'car': tensor(0.0006),\n",
              " 'card': tensor(0.0006),\n",
              " 'care': tensor(0.0006),\n",
              " 'careful': tensor(0.0006),\n",
              " 'carefully': tensor(0.0006),\n",
              " 'carried': tensor(0.0007),\n",
              " 'carrying': tensor(0.0007),\n",
              " 'cart': tensor(0.0006),\n",
              " 'case': tensor(0.0007),\n",
              " 'castle': tensor(0.0007),\n",
              " 'cat': tensor(0.0008),\n",
              " 'catch': tensor(0.0006),\n",
              " 'cats': tensor(0.0007),\n",
              " 'caught': tensor(0.0006),\n",
              " 'cauldron': tensor(0.0007),\n",
              " 'cause': tensor(0.0007),\n",
              " 'ceiling': tensor(0.0008),\n",
              " 'centaur': tensor(0.0006),\n",
              " 'certainly': tensor(0.0006),\n",
              " 'chair': tensor(0.0006),\n",
              " 'chamber': tensor(0.0007),\n",
              " 'chance': tensor(0.0006),\n",
              " 'change': tensor(0.0006),\n",
              " 'changed': tensor(0.0007),\n",
              " 'chapter': tensor(0.0007),\n",
              " 'charlie': tensor(0.0006),\n",
              " 'charlies': tensor(0.0007),\n",
              " 'charms': tensor(0.0006),\n",
              " 'chasers': tensor(0.0008),\n",
              " 'cheer': tensor(0.0007),\n",
              " 'cheering': tensor(0.0006),\n",
              " 'cheers': tensor(0.0007),\n",
              " 'chess': tensor(0.0006),\n",
              " 'chessmen': tensor(0.0006),\n",
              " 'chest': tensor(0.0006),\n",
              " 'chocolate': tensor(0.0006),\n",
              " 'christmas': tensor(0.0007),\n",
              " 'chuckled': tensor(0.0006),\n",
              " 'clambered': tensor(0.0008),\n",
              " 'clapped': tensor(0.0006),\n",
              " 'class': tensor(0.0007),\n",
              " 'classes': tensor(0.0005),\n",
              " 'classroom': tensor(0.0006),\n",
              " 'clean': tensor(0.0006),\n",
              " 'clear': tensor(0.0006),\n",
              " 'cleared': tensor(0.0006),\n",
              " 'clearing': tensor(0.0007),\n",
              " 'clearly': tensor(0.0006),\n",
              " 'clicked': tensor(0.0006),\n",
              " 'climbed': tensor(0.0007),\n",
              " 'cloak': tensor(0.0007),\n",
              " 'close': tensor(0.0007),\n",
              " 'closer': tensor(0.0006),\n",
              " 'clothes': tensor(0.0006),\n",
              " 'club': tensor(0.0007),\n",
              " 'clutching': tensor(0.0006),\n",
              " 'coat': tensor(0.0006),\n",
              " 'cold': tensor(0.0006),\n",
              " 'come': tensor(0.0007),\n",
              " 'coming': tensor(0.0006),\n",
              " 'common': tensor(0.0007),\n",
              " 'compartment': tensor(0.0007),\n",
              " 'completely': tensor(0.0007),\n",
              " 'computer': tensor(0.0008),\n",
              " 'control': tensor(0.0005),\n",
              " 'corner': tensor(0.0007),\n",
              " 'corridor': tensor(0.0006),\n",
              " 'corridors': tensor(0.0005),\n",
              " 'could': tensor(0.0006),\n",
              " 'couldnt': tensor(0.0006),\n",
              " 'couple': tensor(0.0008),\n",
              " 'courage': tensor(0.0006),\n",
              " 'course': tensor(0.0006),\n",
              " 'covered': tensor(0.0006),\n",
              " 'crabbe': tensor(0.0007),\n",
              " 'crack': tensor(0.0006),\n",
              " 'crash': tensor(0.0006),\n",
              " 'crate': tensor(0.0007),\n",
              " 'crept': tensor(0.0006),\n",
              " 'cried': tensor(0.0006),\n",
              " 'cross': tensor(0.0006),\n",
              " 'crossed': tensor(0.0006),\n",
              " 'crowd': tensor(0.0006),\n",
              " 'cry': tensor(0.0007),\n",
              " 'crying': tensor(0.0006),\n",
              " 'cup': tensor(0.0007),\n",
              " 'cupboard': tensor(0.0008),\n",
              " 'curious': tensor(0.0006),\n",
              " 'curse': tensor(0.0006),\n",
              " 'cut': tensor(0.0006),\n",
              " 'dad': tensor(0.0008),\n",
              " 'damp': tensor(0.0007),\n",
              " 'dangerous': tensor(0.0006),\n",
              " 'dare': tensor(0.0006),\n",
              " 'dark': tensor(0.0006),\n",
              " 'darkly': tensor(0.0007),\n",
              " 'darkness': tensor(0.0006),\n",
              " 'day': tensor(0.0007),\n",
              " 'days': tensor(0.0006),\n",
              " 'dead': tensor(0.0007),\n",
              " 'dean': tensor(0.0007),\n",
              " 'dear': tensor(0.0006),\n",
              " 'death': tensor(0.0006),\n",
              " 'decided': tensor(0.0005),\n",
              " 'deep': tensor(0.0008),\n",
              " 'delighted': tensor(0.0008),\n",
              " 'desk': tensor(0.0006),\n",
              " 'desperate': tensor(0.0006),\n",
              " 'diagon': tensor(0.0006),\n",
              " 'did': tensor(0.0007),\n",
              " 'didnt': tensor(0.0006),\n",
              " 'die': tensor(0.0006),\n",
              " 'died': tensor(0.0005),\n",
              " 'difference': tensor(0.0006),\n",
              " 'different': tensor(0.0007),\n",
              " 'difficult': tensor(0.0006),\n",
              " 'dinner': tensor(0.0006),\n",
              " 'direction': tensor(0.0007),\n",
              " 'disappeared': tensor(0.0006),\n",
              " 'dived': tensor(0.0007),\n",
              " 'do': tensor(0.0007),\n",
              " 'does': tensor(0.0007),\n",
              " 'doesnt': tensor(0.0007),\n",
              " 'dog': tensor(0.0006),\n",
              " 'dogs': tensor(0.0006),\n",
              " 'doing': tensor(0.0007),\n",
              " 'don': tensor(0.0007),\n",
              " 'done': tensor(0.0007),\n",
              " 'dont': tensor(0.0007),\n",
              " 'door': tensor(0.0007),\n",
              " 'doors': tensor(0.0007),\n",
              " 'doorway': tensor(0.0006),\n",
              " 'dormitory': tensor(0.0007),\n",
              " 'down': tensor(0.0007),\n",
              " 'draco': tensor(0.0006),\n",
              " 'dragged': tensor(0.0006),\n",
              " 'dragon': tensor(0.0007),\n",
              " 'dragons': tensor(0.0006),\n",
              " 'dream': tensor(0.0006),\n",
              " 'dressed': tensor(0.0006),\n",
              " 'drew': tensor(0.0007),\n",
              " 'drills': tensor(0.0006),\n",
              " 'drink': tensor(0.0007),\n",
              " 'drive': tensor(0.0007),\n",
              " 'drop': tensor(0.0007),\n",
              " 'dropped': tensor(0.0007),\n",
              " 'drove': tensor(0.0007),\n",
              " 'dudley': tensor(0.0007),\n",
              " 'dudleys': tensor(0.0008),\n",
              " 'dumbledore': tensor(0.0006),\n",
              " 'dumbledores': tensor(0.0007),\n",
              " 'dungeons': tensor(0.0006),\n",
              " 'dunno': tensor(0.0006),\n",
              " 'during': tensor(0.0007),\n",
              " 'dursley': tensor(0.0007),\n",
              " 'dursleys': tensor(0.0007),\n",
              " 'each': tensor(0.0006),\n",
              " 'eagerly': tensor(0.0006),\n",
              " 'ear': tensor(0.0008),\n",
              " 'ears': tensor(0.0007),\n",
              " 'earth': tensor(0.0007),\n",
              " 'easily': tensor(0.0007),\n",
              " 'easy': tensor(0.0007),\n",
              " 'eat': tensor(0.0007),\n",
              " 'eating': tensor(0.0008),\n",
              " 'edge': tensor(0.0006),\n",
              " 'egg': tensor(0.0006),\n",
              " 'eh': tensor(0.0007),\n",
              " 'either': tensor(0.0006),\n",
              " 'eleven': tensor(0.0007),\n",
              " 'else': tensor(0.0007),\n",
              " 'em': tensor(0.0007),\n",
              " 'empty': tensor(0.0007),\n",
              " 'end': tensor(0.0007),\n",
              " 'enough': tensor(0.0007),\n",
              " 'entered': tensor(0.0007),\n",
              " 'entrance': tensor(0.0007),\n",
              " 'envelope': tensor(0.0006),\n",
              " 'er': tensor(0.0007),\n",
              " 'erised': tensor(0.0007),\n",
              " 'even': tensor(0.0006),\n",
              " 'evening': tensor(0.0007),\n",
              " 'ever': tensor(0.0006),\n",
              " 'every': tensor(0.0006),\n",
              " 'everybody': tensor(0.0008),\n",
              " 'everyone': tensor(0.0007),\n",
              " 'everything': tensor(0.0007),\n",
              " 'everywhere': tensor(0.0006),\n",
              " 'evil': tensor(0.0007),\n",
              " 'exactly': tensor(0.0006),\n",
              " 'exam': tensor(0.0007),\n",
              " 'exams': tensor(0.0006),\n",
              " 'excellent': tensor(0.0006),\n",
              " 'except': tensor(0.0006),\n",
              " 'excitedly': tensor(0.0007),\n",
              " 'excuse': tensor(0.0007),\n",
              " 'expect': tensor(0.0006),\n",
              " 'expected': tensor(0.0006),\n",
              " 'expelled': tensor(0.0006),\n",
              " 'explain': tensor(0.0007),\n",
              " 'extra': tensor(0.0007),\n",
              " 'eye': tensor(0.0006),\n",
              " 'eyes': tensor(0.0008),\n",
              " 'face': tensor(0.0006),\n",
              " 'faces': tensor(0.0007),\n",
              " 'facing': tensor(0.0007),\n",
              " 'fact': tensor(0.0006),\n",
              " 'faded': tensor(0.0007),\n",
              " 'fall': tensor(0.0007),\n",
              " 'fallen': tensor(0.0006),\n",
              " 'families': tensor(0.0007),\n",
              " 'family': tensor(0.0007),\n",
              " 'famous': tensor(0.0006),\n",
              " 'fang': tensor(0.0007),\n",
              " 'fangs': tensor(0.0006),\n",
              " 'far': tensor(0.0006),\n",
              " 'fast': tensor(0.0006),\n",
              " 'fat': tensor(0.0008),\n",
              " 'father': tensor(0.0007),\n",
              " 'fathers': tensor(0.0007),\n",
              " 'favorite': tensor(0.0007),\n",
              " 'fear': tensor(0.0006),\n",
              " 'feast': tensor(0.0007),\n",
              " 'feather': tensor(0.0007),\n",
              " 'feel': tensor(0.0007),\n",
              " 'feeling': tensor(0.0008),\n",
              " 'feet': tensor(0.0006),\n",
              " 'fell': tensor(0.0005),\n",
              " 'felt': tensor(0.0006),\n",
              " 'fer': tensor(0.0006),\n",
              " 'few': tensor(0.0007),\n",
              " 'field': tensor(0.0008),\n",
              " 'fifty': tensor(0.0007),\n",
              " 'fight': tensor(0.0006),\n",
              " 'fighting': tensor(0.0007),\n",
              " 'figure': tensor(0.0007),\n",
              " 'filch': tensor(0.0006),\n",
              " 'filled': tensor(0.0008),\n",
              " 'finally': tensor(0.0006),\n",
              " 'find': tensor(0.0006),\n",
              " 'finding': tensor(0.0007),\n",
              " 'fine': tensor(0.0007),\n",
              " 'fingers': tensor(0.0007),\n",
              " 'finished': tensor(0.0007),\n",
              " 'finnigan': tensor(0.0006),\n",
              " 'fire': tensor(0.0005),\n",
              " 'firenze': tensor(0.0006),\n",
              " 'firs': tensor(0.0006),\n",
              " 'first': tensor(0.0007),\n",
              " 'five': tensor(0.0007),\n",
              " 'fixed': tensor(0.0006),\n",
              " 'flamel': tensor(0.0006),\n",
              " 'flames': tensor(0.0007),\n",
              " 'flash': tensor(0.0007),\n",
              " 'flat': tensor(0.0006),\n",
              " 'flavor': tensor(0.0007),\n",
              " 'flew': tensor(0.0007),\n",
              " 'flint': tensor(0.0007),\n",
              " 'flitwick': tensor(0.0006),\n",
              " 'floating': tensor(0.0007),\n",
              " 'floor': tensor(0.0007),\n",
              " 'fluffy': tensor(0.0007),\n",
              " 'flute': tensor(0.0007),\n",
              " 'fly': tensor(0.0006),\n",
              " 'flying': tensor(0.0006),\n",
              " 'follow': tensor(0.0006),\n",
              " 'followed': tensor(0.0006),\n",
              " 'following': tensor(0.0007),\n",
              " 'food': tensor(0.0006),\n",
              " 'foot': tensor(0.0007),\n",
              " 'footsteps': tensor(0.0006),\n",
              " 'for': tensor(0.0007),\n",
              " 'forbidden': tensor(0.0007),\n",
              " 'force': tensor(0.0007),\n",
              " 'forehead': tensor(0.0007),\n",
              " 'forest': tensor(0.0006),\n",
              " 'forget': tensor(0.0006),\n",
              " 'forgotten': tensor(0.0007),\n",
              " 'forward': tensor(0.0006),\n",
              " 'found': tensor(0.0006),\n",
              " 'four': tensor(0.0006),\n",
              " 'fred': tensor(0.0007),\n",
              " 'free': tensor(0.0008),\n",
              " 'friend': tensor(0.0008),\n",
              " 'friends': tensor(0.0007),\n",
              " 'frog': tensor(0.0007),\n",
              " 'frogs': tensor(0.0007),\n",
              " 'from': tensor(0.0006),\n",
              " 'front': tensor(0.0006),\n",
              " 'full': tensor(0.0006),\n",
              " 'fun': tensor(0.0007),\n",
              " 'funny': tensor(0.0007),\n",
              " 'furious': tensor(0.0006),\n",
              " 'furiously': tensor(0.0007),\n",
              " 'game': tensor(0.0006),\n",
              " 'garden': tensor(0.0007),\n",
              " 'gasped': tensor(0.0007),\n",
              " 'gave': tensor(0.0008),\n",
              " 'gently': tensor(0.0006),\n",
              " 'george': tensor(0.0006),\n",
              " 'get': tensor(0.0008),\n",
              " 'gets': tensor(0.0007),\n",
              " 'gettin': tensor(0.0007),\n",
              " 'getting': tensor(0.0006),\n",
              " 'ghost': tensor(0.0007),\n",
              " 'ghosts': tensor(0.0006),\n",
              " 'giant': tensor(0.0007),\n",
              " 'girl': tensor(0.0007),\n",
              " 'girls': tensor(0.0007),\n",
              " 'give': tensor(0.0006),\n",
              " 'given': tensor(0.0007),\n",
              " 'giving': tensor(0.0006),\n",
              " 'glad': tensor(0.0006),\n",
              " 'glass': tensor(0.0007),\n",
              " 'glasses': tensor(0.0006),\n",
              " 'go': tensor(0.0007),\n",
              " 'goal': tensor(0.0007),\n",
              " 'goblin': tensor(0.0008),\n",
              " 'goblins': tensor(0.0006),\n",
              " 'goes': tensor(0.0006),\n",
              " 'going': tensor(0.0007),\n",
              " 'gold': tensor(0.0006),\n",
              " 'golden': tensor(0.0006),\n",
              " 'gone': tensor(0.0006),\n",
              " 'good': tensor(0.0006),\n",
              " 'goodbye': tensor(0.0006),\n",
              " 'got': tensor(0.0006),\n",
              " 'gotta': tensor(0.0007),\n",
              " 'gotten': tensor(0.0006),\n",
              " 'goyle': tensor(0.0007),\n",
              " 'grab': tensor(0.0006),\n",
              " 'grabbed': tensor(0.0007),\n",
              " 'granger': tensor(0.0006),\n",
              " 'grass': tensor(0.0007),\n",
              " 'gray': tensor(0.0006),\n",
              " 'great': tensor(0.0006),\n",
              " 'green': tensor(0.0007),\n",
              " 'grin': tensor(0.0006),\n",
              " 'gringotts': tensor(0.0007),\n",
              " 'griphook': tensor(0.0006),\n",
              " 'ground': tensor(0.0006),\n",
              " 'grounds': tensor(0.0006),\n",
              " 'growled': tensor(0.0006),\n",
              " 'grunted': tensor(0.0007),\n",
              " 'gryffindor': tensor(0.0007),\n",
              " 'gryffindors': tensor(0.0007),\n",
              " 'guard': tensor(0.0007),\n",
              " 'guarding': tensor(0.0007),\n",
              " 'h': tensor(0.0006),\n",
              " 'had': tensor(0.0007),\n",
              " 'hadnt': tensor(0.0007),\n",
              " 'hagrid': tensor(0.0008),\n",
              " 'hagrids': tensor(0.0007),\n",
              " 'hair': tensor(0.0005),\n",
              " 'half': tensor(0.0006),\n",
              " 'halfway': tensor(0.0007),\n",
              " 'hall': tensor(0.0007),\n",
              " 'halloween': tensor(0.0007),\n",
              " 'hand': tensor(0.0008),\n",
              " 'handed': tensor(0.0006),\n",
              " 'handle': tensor(0.0008),\n",
              " 'hands': tensor(0.0007),\n",
              " 'hang': tensor(0.0007),\n",
              " 'hanging': tensor(0.0006),\n",
              " 'happen': tensor(0.0006),\n",
              " 'happened': tensor(0.0007),\n",
              " 'happy': tensor(0.0007),\n",
              " 'hard': tensor(0.0006),\n",
              " 'harder': tensor(0.0008),\n",
              " 'hardly': tensor(0.0007),\n",
              " 'harry': tensor(0.0016),\n",
              " 'harrys': tensor(0.0006),\n",
              " 'has': tensor(0.0006),\n",
              " 'hasnt': tensor(0.0006),\n",
              " 'hat': tensor(0.0006),\n",
              " 'hate': tensor(0.0007),\n",
              " 'hated': tensor(0.0006),\n",
              " 'have': tensor(0.0007),\n",
              " 'havent': tensor(0.0007),\n",
              " 'having': tensor(0.0006),\n",
              " 'he': tensor(0.0006),\n",
              " 'head': tensor(0.0006),\n",
              " 'headless': tensor(0.0007),\n",
              " 'heads': tensor(0.0007),\n",
              " 'hear': tensor(0.0007),\n",
              " 'heard': tensor(0.0006),\n",
              " 'heart': tensor(0.0007),\n",
              " 'heavy': tensor(0.0007),\n",
              " 'hed': tensor(0.0006),\n",
              " 'hedwig': tensor(0.0006),\n",
              " 'held': tensor(0.0006),\n",
              " 'hell': tensor(0.0006),\n",
              " 'help': tensor(0.0008),\n",
              " 'her': tensor(0.0007),\n",
              " 'here': tensor(0.0006),\n",
              " 'hermione': tensor(0.0009),\n",
              " 'hermiones': tensor(0.0007),\n",
              " 'herself': tensor(0.0009),\n",
              " 'hes': tensor(0.0007),\n",
              " 'hidden': tensor(0.0007),\n",
              " 'hide': tensor(0.0008),\n",
              " 'hiding': tensor(0.0007),\n",
              " 'high': tensor(0.0007),\n",
              " 'higher': tensor(0.0007),\n",
              " 'him': tensor(0.0007),\n",
              " 'himself': tensor(0.0007),\n",
              " 'his': tensor(0.0007),\n",
              " 'hissed': tensor(0.0006),\n",
              " 'history': tensor(0.0007),\n",
              " 'hit': tensor(0.0007),\n",
              " 'hogwarts': tensor(0.0006),\n",
              " 'hold': tensor(0.0006),\n",
              " 'holding': tensor(0.0006),\n",
              " 'hole': tensor(0.0006),\n",
              " 'holidays': tensor(0.0007),\n",
              " 'home': tensor(0.0008),\n",
              " 'homework': tensor(0.0007),\n",
              " 'honestly': tensor(0.0007),\n",
              " 'hooch': tensor(0.0008),\n",
              " 'hoops': tensor(0.0008),\n",
              " 'hope': tensor(0.0007),\n",
              " 'hoping': tensor(0.0008),\n",
              " 'horrible': tensor(0.0007),\n",
              " 'horror': tensor(0.0006),\n",
              " 'hospital': tensor(0.0007),\n",
              " 'hot': tensor(0.0007),\n",
              " 'hour': tensor(0.0006),\n",
              " 'hours': tensor(0.0006),\n",
              " 'house': tensor(0.0006),\n",
              " 'houses': tensor(0.0007),\n",
              " 'how': tensor(0.0006),\n",
              " 'however': tensor(0.0007),\n",
              " 'howling': tensor(0.0007),\n",
              " 'hufflepuff': tensor(0.0006),\n",
              " 'huge': tensor(0.0005),\n",
              " 'human': tensor(0.0008),\n",
              " 'hundred': tensor(0.0007),\n",
              " 'hundreds': tensor(0.0007),\n",
              " 'hung': tensor(0.0006),\n",
              " 'hungry': tensor(0.0006),\n",
              " 'hurried': tensor(0.0007),\n",
              " 'hurry': tensor(0.0006),\n",
              " 'hurrying': tensor(0.0007),\n",
              " 'hurt': tensor(0.0006),\n",
              " 'hut': tensor(0.0007),\n",
              " 'i': tensor(0.0008),\n",
              " 'ice': tensor(0.0008),\n",
              " 'id': tensor(0.0007),\n",
              " 'idea': tensor(0.0006),\n",
              " 'if': tensor(0.0007),\n",
              " 'ignored': tensor(0.0006),\n",
              " 'ill': tensor(0.0007),\n",
              " 'im': tensor(0.0008),\n",
              " 'imagine': tensor(0.0006),\n",
              " 'important': tensor(0.0006),\n",
              " 'in': tensor(0.0007),\n",
              " 'inches': tensor(0.0007),\n",
              " 'indeed': tensor(0.0006),\n",
              " 'inside': tensor(0.0007),\n",
              " 'instead': tensor(0.0006),\n",
              " 'interested': tensor(0.0007),\n",
              " 'interesting': tensor(0.0008),\n",
              " 'into': tensor(0.0007),\n",
              " 'invisibility': tensor(0.0008),\n",
              " 'invisible': tensor(0.0006),\n",
              " 'is': tensor(0.0007),\n",
              " 'isnt': tensor(0.0007),\n",
              " 'it': tensor(0.0006),\n",
              " 'itll': tensor(0.0007),\n",
              " 'its': tensor(0.0006),\n",
              " 'itself': tensor(0.0007),\n",
              " 'ive': tensor(0.0006),\n",
              " 'jerked': tensor(0.0007),\n",
              " 'job': tensor(0.0007),\n",
              " 'join': tensor(0.0005),\n",
              " 'joined': tensor(0.0006),\n",
              " 'joke': tensor(0.0007),\n",
              " 'jordan': tensor(0.0006),\n",
              " 'jump': tensor(0.0007),\n",
              " 'jumped': tensor(0.0007),\n",
              " 'jus': tensor(0.0006),\n",
              " 'just': tensor(0.0008),\n",
              " 'keep': tensor(0.0007),\n",
              " 'keeper': tensor(0.0007),\n",
              " 'keeping': tensor(0.0008),\n",
              " 'kept': tensor(0.0008),\n",
              " 'key': tensor(0.0007),\n",
              " 'keys': tensor(0.0008),\n",
              " 'kicked': tensor(0.0007),\n",
              " 'kill': tensor(0.0007),\n",
              " 'killed': tensor(0.0007),\n",
              " 'kind': tensor(0.0007),\n",
              " 'kings': tensor(0.0006),\n",
              " 'kitchen': tensor(0.0006),\n",
              " 'knees': tensor(0.0006),\n",
              " 'knew': tensor(0.0008),\n",
              " 'knight': tensor(0.0006),\n",
              " 'knock': tensor(0.0007),\n",
              " 'knocked': tensor(0.0006),\n",
              " 'knocking': tensor(0.0006),\n",
              " 'know': tensor(0.0007),\n",
              " 'knowing': tensor(0.0005),\n",
              " 'known': tensor(0.0006),\n",
              " 'knows': tensor(0.0006),\n",
              " 'knuts': tensor(0.0006),\n",
              " 'lady': tensor(0.0007),\n",
              " 'lake': tensor(0.0007),\n",
              " 'lamp': tensor(0.0006),\n",
              " 'landed': tensor(0.0007),\n",
              " 'large': tensor(0.0007),\n",
              " 'last': tensor(0.0007),\n",
              " 'late': tensor(0.0007),\n",
              " 'later': tensor(0.0007),\n",
              " 'laugh': tensor(0.0007),\n",
              " 'laughed': tensor(0.0007),\n",
              " 'laughing': tensor(0.0006),\n",
              " 'laughter': tensor(0.0006),\n",
              " 'lay': tensor(0.0006),\n",
              " 'lead': tensor(0.0006),\n",
              " 'leading': tensor(0.0007),\n",
              " 'leaky': tensor(0.0007),\n",
              " 'leaned': tensor(0.0007),\n",
              " 'leapt': tensor(0.0007),\n",
              " 'learn': tensor(0.0008),\n",
              " 'learned': tensor(0.0006),\n",
              " 'least': tensor(0.0007),\n",
              " 'leave': tensor(0.0006),\n",
              " 'leaves': tensor(0.0007),\n",
              " 'leaving': tensor(0.0006),\n",
              " 'led': tensor(0.0006),\n",
              " 'lee': tensor(0.0007),\n",
              " 'left': tensor(0.0007),\n",
              " 'leg': tensor(0.0007),\n",
              " 'legs': tensor(0.0006),\n",
              " 'lemon': tensor(0.0006),\n",
              " 'less': tensor(0.0007),\n",
              " 'lesson': tensor(0.0007),\n",
              " 'lessons': tensor(0.0007),\n",
              " 'let': tensor(0.0006),\n",
              " 'lets': tensor(0.0007),\n",
              " 'letter': tensor(0.0008),\n",
              " 'letters': tensor(0.0006),\n",
              " 'library': tensor(0.0007),\n",
              " 'lie': tensor(0.0007),\n",
              " 'life': tensor(0.0007),\n",
              " 'light': tensor(0.0007),\n",
              " 'lightning': tensor(0.0007),\n",
              " 'like': tensor(0.0007),\n",
              " 'liked': tensor(0.0006),\n",
              " 'lily': tensor(0.0007),\n",
              " 'line': tensor(0.0006),\n",
              " 'lips': tensor(0.0007),\n",
              " 'list': tensor(0.0007),\n",
              " 'listen': tensor(0.0007),\n",
              " 'listening': tensor(0.0007),\n",
              " 'lit': tensor(0.0007),\n",
              " 'little': tensor(0.0008),\n",
              " 'live': tensor(0.0006),\n",
              " 'lived': tensor(0.0008),\n",
              " 'living': tensor(0.0007),\n",
              " 'loads': tensor(0.0007),\n",
              " 'lock': tensor(0.0006),\n",
              " 'locked': tensor(0.0007),\n",
              " 'london': tensor(0.0007),\n",
              " 'long': tensor(0.0007),\n",
              " 'longbottom': tensor(0.0006),\n",
              " 'look': tensor(0.0007),\n",
              " 'looked': tensor(0.0007),\n",
              " 'looking': tensor(0.0006),\n",
              " 'looks': tensor(0.0007),\n",
              " 'lose': tensor(0.0005),\n",
              " 'losing': tensor(0.0007),\n",
              " 'lost': tensor(0.0007),\n",
              " 'lot': tensor(0.0007),\n",
              " 'lots': tensor(0.0007),\n",
              " 'loud': tensor(0.0006),\n",
              " 'loudly': tensor(0.0006),\n",
              " 'low': tensor(0.0006),\n",
              " 'luck': tensor(0.0006),\n",
              " 'lucky': tensor(0.0006),\n",
              " 'lumpy': tensor(0.0006),\n",
              " 'lurking': tensor(0.0006),\n",
              " 'lying': tensor(0.0008),\n",
              " 'mad': tensor(0.0008),\n",
              " 'madam': tensor(0.0007),\n",
              " 'made': tensor(0.0007),\n",
              " 'magic': tensor(0.0006),\n",
              " 'magical': tensor(0.0007),\n",
              " 'mail': tensor(0.0007),\n",
              " 'make': tensor(0.0007),\n",
              " 'making': tensor(0.0007),\n",
              " 'malfoy': tensor(0.0007),\n",
              " 'malfoys': tensor(0.0006),\n",
              " 'man': tensor(0.0006),\n",
              " 'managed': tensor(0.0006),\n",
              " 'many': tensor(0.0006),\n",
              " 'marble': tensor(0.0006),\n",
              " 'marched': tensor(0.0006),\n",
              " 'match': tensor(0.0006),\n",
              " 'matter': tensor(0.0006),\n",
              " 'may': tensor(0.0006),\n",
              " 'maybe': tensor(0.0007),\n",
              " 'mcgonagall': tensor(0.0007),\n",
              " 'mcgonagalls': tensor(0.0006),\n",
              " 'me': tensor(0.0006),\n",
              " 'mean': tensor(0.0006),\n",
              " 'means': tensor(0.0007),\n",
              " 'meant': tensor(0.0007),\n",
              " 'meet': tensor(0.0006),\n",
              " 'mention': tensor(0.0007),\n",
              " 'met': tensor(0.0007),\n",
              " 'midair': tensor(0.0007),\n",
              " 'middle': tensor(0.0006),\n",
              " 'midnight': tensor(0.0006),\n",
              " 'might': tensor(0.0008),\n",
              " 'mind': tensor(0.0007),\n",
              " 'ministry': tensor(0.0007),\n",
              " 'minute': tensor(0.0007),\n",
              " 'minutes': tensor(0.0006),\n",
              " 'mirror': tensor(0.0008),\n",
              " 'miss': tensor(0.0006),\n",
              " 'mistake': tensor(0.0007),\n",
              " 'moaned': tensor(0.0007),\n",
              " 'mom': tensor(0.0006),\n",
              " 'moment': tensor(0.0006),\n",
              " 'money': tensor(0.0006),\n",
              " 'moonlight': tensor(0.0006),\n",
              " 'more': tensor(0.0007),\n",
              " 'morning': tensor(0.0007),\n",
              " 'most': tensor(0.0006),\n",
              " 'mother': tensor(0.0007),\n",
              " 'mothers': tensor(0.0006),\n",
              " 'motorcycle': tensor(0.0007),\n",
              " 'mountain': tensor(0.0006),\n",
              " 'mouth': tensor(0.0007),\n",
              " 'move': tensor(0.0006),\n",
              " 'moved': tensor(0.0006),\n",
              " 'moving': tensor(0.0006),\n",
              " 'mr': tensor(0.0006),\n",
              " 'mrs': tensor(0.0007),\n",
              " 'much': tensor(0.0006),\n",
              " 'muggle': tensor(0.0007),\n",
              " 'muggles': tensor(0.0007),\n",
              " 'murmured': tensor(0.0006),\n",
              " 'must': tensor(0.0006),\n",
              " 'mustache': tensor(0.0006),\n",
              " 'mustve': tensor(0.0007),\n",
              " 'muttered': tensor(0.0007),\n",
              " 'muttering': tensor(0.0007),\n",
              " 'my': tensor(0.0006),\n",
              " 'myself': tensor(0.0006),\n",
              " 'mysterious': tensor(0.0007),\n",
              " 'nah': tensor(0.0007),\n",
              " 'name': tensor(0.0006),\n",
              " 'names': tensor(0.0007),\n",
              " 'narrow': tensor(0.0007),\n",
              " 'nasty': tensor(0.0007),\n",
              " 'near': tensor(0.0006),\n",
              " 'nearer': tensor(0.0006),\n",
              " 'nearest': tensor(0.0007),\n",
              " 'nearly': tensor(0.0006),\n",
              " 'neck': tensor(0.0007),\n",
              " 'need': tensor(0.0007),\n",
              " 'needed': tensor(0.0008),\n",
              " 'needs': tensor(0.0006),\n",
              " 'neither': tensor(0.0006),\n",
              " 'nervous': tensor(0.0007),\n",
              " 'nervously': tensor(0.0008),\n",
              " 'never': tensor(0.0007),\n",
              " 'neville': tensor(0.0007),\n",
              " 'nevilles': tensor(0.0005),\n",
              " 'new': tensor(0.0007),\n",
              " 'news': tensor(0.0006),\n",
              " 'newspaper': tensor(0.0008),\n",
              " 'next': tensor(0.0007),\n",
              " 'nice': tensor(0.0006),\n",
              " 'nicolas': tensor(0.0008),\n",
              " 'night': tensor(0.0006),\n",
              " 'nimbus': tensor(0.0006),\n",
              " 'nine': tensor(0.0007),\n",
              " 'no': tensor(0.0006),\n",
              " 'nobody': tensor(0.0006),\n",
              " 'nodded': tensor(0.0006),\n",
              " 'noise': tensor(0.0007),\n",
              " 'none': tensor(0.0006),\n",
              " 'nor': tensor(0.0007),\n",
              " 'norbert': tensor(0.0006),\n",
              " 'normal': tensor(0.0007),\n",
              " 'norris': tensor(0.0007),\n",
              " 'nose': tensor(0.0007),\n",
              " 'noses': tensor(0.0007),\n",
              " 'nostrils': tensor(0.0007),\n",
              " 'not': tensor(0.0008),\n",
              " 'note': tensor(0.0007),\n",
              " 'notes': tensor(0.0006),\n",
              " 'nothin': tensor(0.0007),\n",
              " 'nothing': tensor(0.0007),\n",
              " 'notice': tensor(0.0006),\n",
              " 'noticed': tensor(0.0006),\n",
              " 'noticing': tensor(0.0007),\n",
              " 'now': tensor(0.0007),\n",
              " 'number': tensor(0.0006),\n",
              " 'o': tensor(0.0006),\n",
              " 'obviously': tensor(0.0007),\n",
              " 'oclock': tensor(0.0006),\n",
              " 'odd': tensor(0.0007),\n",
              " 'of': tensor(0.0006),\n",
              " 'off': tensor(0.0006),\n",
              " 'often': tensor(0.0006),\n",
              " 'oh': tensor(0.0006),\n",
              " 'old': tensor(0.0005),\n",
              " 'older': tensor(0.0006),\n",
              " 'ollivander': tensor(0.0007),\n",
              " 'on': tensor(0.0007),\n",
              " 'once': tensor(0.0005),\n",
              " 'one': tensor(0.0007),\n",
              " 'ones': tensor(0.0007),\n",
              " 'only': tensor(0.0007),\n",
              " 'onto': tensor(0.0008),\n",
              " 'open': tensor(0.0006),\n",
              " 'opened': tensor(0.0006),\n",
              " 'opposite': tensor(0.0007),\n",
              " 'or': tensor(0.0007),\n",
              " 'ordinary': tensor(0.0006),\n",
              " 'other': tensor(0.0006),\n",
              " 'others': tensor(0.0006),\n",
              " 'our': tensor(0.0007),\n",
              " 'out': tensor(0.0007),\n",
              " 'outside': tensor(0.0008),\n",
              " 'outta': tensor(0.0007),\n",
              " 'over': tensor(0.0009),\n",
              " 'overhead': tensor(0.0007),\n",
              " 'owl': tensor(0.0007),\n",
              " 'owls': tensor(0.0007),\n",
              " 'own': tensor(0.0007),\n",
              " 'pack': tensor(0.0006),\n",
              " 'package': tensor(0.0007),\n",
              " 'packed': tensor(0.0006),\n",
              " 'pain': tensor(0.0007),\n",
              " 'pair': tensor(0.0008),\n",
              " 'pale': tensor(0.0006),\n",
              " 'panted': tensor(0.0007),\n",
              " 'paper': tensor(0.0007),\n",
              " 'parcel': tensor(0.0007),\n",
              " 'parchment': tensor(0.0007),\n",
              " 'parents': tensor(0.0007),\n",
              " 'particularly': tensor(0.0006),\n",
              " 'passageway': tensor(0.0007),\n",
              " 'passed': tensor(0.0006),\n",
              " 'passing': tensor(0.0008),\n",
              " 'past': tensor(0.0007),\n",
              " 'path': tensor(0.0007),\n",
              " 'patil': tensor(0.0007),\n",
              " 'peered': tensor(0.0006),\n",
              " 'peering': tensor(0.0007),\n",
              " 'peeves': tensor(0.0006),\n",
              " 'people': tensor(0.0006),\n",
              " 'percy': tensor(0.0006),\n",
              " 'perfect': tensor(0.0008),\n",
              " 'perhaps': tensor(0.0007),\n",
              " 'person': tensor(0.0007),\n",
              " 'petunia': tensor(0.0006),\n",
              " 'picked': tensor(0.0007),\n",
              " 'piece': tensor(0.0006),\n",
              " 'pieces': tensor(0.0007),\n",
              " 'piers': tensor(0.0007),\n",
              " 'pig': tensor(0.0007),\n",
              " 'pile': tensor(0.0006),\n",
              " 'piled': tensor(0.0006),\n",
              " 'pink': tensor(0.0007),\n",
              " 'pinned': tensor(0.0007),\n",
              " 'place': tensor(0.0008),\n",
              " 'planets': tensor(0.0007),\n",
              " 'plant': tensor(0.0007),\n",
              " 'plates': tensor(0.0006),\n",
              " 'platform': tensor(0.0008),\n",
              " 'platforms': tensor(0.0008),\n",
              " 'play': tensor(0.0006),\n",
              " 'players': tensor(0.0007),\n",
              " 'playing': tensor(0.0006),\n",
              " 'please': tensor(0.0007),\n",
              " 'pleased': tensor(0.0006),\n",
              " 'pocket': tensor(0.0006),\n",
              " 'pockets': tensor(0.0007),\n",
              " 'point': tensor(0.0006),\n",
              " 'pointed': tensor(0.0007),\n",
              " 'pointing': tensor(0.0007),\n",
              " 'points': tensor(0.0007),\n",
              " 'pomfrey': tensor(0.0007),\n",
              " 'poor': tensor(0.0007),\n",
              " 'portrait': tensor(0.0007),\n",
              " 'possession': tensor(0.0007),\n",
              " 'possible': tensor(0.0008),\n",
              " 'posts': tensor(0.0006),\n",
              " 'potion': tensor(0.0006),\n",
              " 'potions': tensor(0.0006),\n",
              " 'potter': tensor(0.0006),\n",
              " 'potters': tensor(0.0007),\n",
              " 'power': tensor(0.0007),\n",
              " 'powerful': tensor(0.0006),\n",
              " 'practice': tensor(0.0006),\n",
              " 'prefect': tensor(0.0007),\n",
              " 'prefects': tensor(0.0006),\n",
              " 'presents': tensor(0.0007),\n",
              " 'pressed': tensor(0.0006),\n",
              " 'privet': tensor(0.0007),\n",
              " 'probably': tensor(0.0007),\n",
              " 'professor': tensor(0.0006),\n",
              " 'properly': tensor(0.0008),\n",
              " 'proud': tensor(0.0006),\n",
              " 'pull': tensor(0.0006),\n",
              " 'pulled': tensor(0.0006),\n",
              " 'pulling': tensor(0.0006),\n",
              " 'purple': tensor(0.0006),\n",
              " 'pushed': tensor(0.0006),\n",
              " 'put': tensor(0.0006),\n",
              " 'quaffle': tensor(0.0006),\n",
              " 'question': tensor(0.0007),\n",
              " 'questions': tensor(0.0009),\n",
              " 'quick': tensor(0.0006),\n",
              " 'quickly': tensor(0.0007),\n",
              " 'quidditch': tensor(0.0007),\n",
              " 'quiet': tensor(0.0007),\n",
              " 'quietly': tensor(0.0007),\n",
              " 'quills': tensor(0.0007),\n",
              " 'quirrell': tensor(0.0007),\n",
              " 'quirrells': tensor(0.0006),\n",
              " 'quite': tensor(0.0007),\n",
              " 'racing': tensor(0.0007),\n",
              " 'raised': tensor(0.0007),\n",
              " 'ran': tensor(0.0006),\n",
              " 'rang': tensor(0.0006),\n",
              " 'rat': tensor(0.0006),\n",
              " 'rather': tensor(0.0006),\n",
              " 'ravenclaw': tensor(0.0007),\n",
              " 'reached': tensor(0.0007),\n",
              " 'read': tensor(0.0007),\n",
              " 'ready': tensor(0.0006),\n",
              " 'real': tensor(0.0007),\n",
              " 'realize': tensor(0.0006),\n",
              " 'realized': tensor(0.0006),\n",
              " 'really': tensor(0.0007),\n",
              " 'reason': tensor(0.0006),\n",
              " ...}"
            ]
          },
          "metadata": {},
          "execution_count": 24
        }
      ],
      "source": [
        "from math import exp\n",
        "word_exp_dict = {}\n",
        "for word, dot_value in word_dot_dict.items():\n",
        "  exp_value = torch.exp(dot_value)\n",
        "  word_exp_dict[word] = exp_value\n",
        "word_exp_dict\n",
        "\n",
        "sum_exp = sum([value for value in word_exp_dict.values()])\n",
        "\n",
        "word_prob_dict = dict()\n",
        "for word, exp_value in word_exp_dict.items():\n",
        "  word_prob_dict[word] = exp_value / sum_exp\n",
        "word_prob_dict\n"
      ]
    },
    {
      "cell_type": "code",
      "execution_count": 25,
      "metadata": {
        "colab": {
          "base_uri": "https://localhost:8080/"
        },
        "id": "SpXH7RxSbwUO",
        "outputId": "269b66d8-b49d-4422-f960-96a2dd0e83c7"
      },
      "outputs": [
        {
          "output_type": "execute_result",
          "data": {
            "text/plain": [
              "tensor(0.0006)"
            ]
          },
          "metadata": {},
          "execution_count": 25
        }
      ],
      "source": [
        "# Get P(potter|harry)\n",
        "word_prob_dict['potter']"
      ]
    },
    {
      "cell_type": "markdown",
      "metadata": {
        "id": "kKxz9SJhSuhy"
      },
      "source": [
        "## 13. Efficient Matrix Operations\n",
        "![img](https://mkang32.github.io/images/python/khan_academy_matrix_product.png)\n",
        "\n",
        "Instead of calculating dot products one by one, we can use matrix multiplication for efficiency:\n"
      ]
    },
    {
      "cell_type": "code",
      "source": [
        "harry, potter\n",
        "center_word_mat = torch.stack([harry , potter])\n",
        "center_word_mat.shape"
      ],
      "metadata": {
        "id": "MpfW83rXBN5v",
        "outputId": "21e535db-516e-484e-80ad-86f5fafc9d95",
        "colab": {
          "base_uri": "https://localhost:8080/"
        }
      },
      "execution_count": 26,
      "outputs": [
        {
          "output_type": "execute_result",
          "data": {
            "text/plain": [
              "torch.Size([2, 100])"
            ]
          },
          "metadata": {},
          "execution_count": 26
        }
      ]
    },
    {
      "cell_type": "code",
      "execution_count": 27,
      "metadata": {
        "colab": {
          "base_uri": "https://localhost:8080/"
        },
        "id": "HCFajiDkb44W",
        "outputId": "b0b4e965-bab5-46f1-fdb0-1ed8225c4f22"
      },
      "outputs": [
        {
          "output_type": "execute_result",
          "data": {
            "text/plain": [
              "torch.Size([1506, 2])"
            ]
          },
          "metadata": {},
          "execution_count": 27
        }
      ],
      "source": [
        "# get dot product result for every word in the vocabulary\n",
        "harry.shape\n",
        "# first, make vector_of_harry into matrix format\n",
        "harry_mat = harry.unsqueeze(0)\n",
        "word_vectors.shape\n",
        "# do matrix multiplication\n",
        "dot_by_mat = torch.mm(center_word_mat, word_vectors.T)\n",
        "dot_by_mat = dot_by_mat.T\n",
        "dot_by_mat.shape"
      ]
    },
    {
      "cell_type": "markdown",
      "metadata": {
        "id": "KrOLs6kgyhDY"
      },
      "source": [
        "Let's verify that our matrix multiplication gives the same result as individual dot products:"
      ]
    },
    {
      "cell_type": "code",
      "execution_count": 28,
      "metadata": {
        "colab": {
          "base_uri": "https://localhost:8080/"
        },
        "id": "jf643k38yhDY",
        "outputId": "89fedd31-3c4e-4935-81c1-efbff907e358"
      },
      "outputs": [
        {
          "output_type": "execute_result",
          "data": {
            "text/plain": [
              "(tensor([-0.0366,  0.7638]), tensor(-0.0366))"
            ]
          },
          "metadata": {},
          "execution_count": 28
        }
      ],
      "source": [
        "dot_by_mat[word2idx['potter']] , word_dot_dict['potter']"
      ]
    },
    {
      "cell_type": "markdown",
      "metadata": {
        "id": "Q7DIzDCpyhDY"
      },
      "source": [
        "Now let's implement the complete softmax calculation using matrix operations:\n"
      ]
    },
    {
      "cell_type": "code",
      "execution_count": 29,
      "metadata": {
        "colab": {
          "base_uri": "https://localhost:8080/"
        },
        "id": "5USdps5CfKzq",
        "outputId": "8bdcdfbc-58d8-4811-e931-d30dcfbb9116"
      },
      "outputs": [
        {
          "output_type": "execute_result",
          "data": {
            "text/plain": [
              "torch.Size([1506, 2])"
            ]
          },
          "metadata": {},
          "execution_count": 29
        }
      ],
      "source": [
        "# convert dot product result into exponential\n",
        "mat_exp = torch.exp(dot_by_mat)\n",
        "mat_exp.shape"
      ]
    },
    {
      "cell_type": "code",
      "execution_count": 30,
      "metadata": {
        "colab": {
          "base_uri": "https://localhost:8080/"
        },
        "id": "WNq0gqz0fntB",
        "outputId": "c5fc70e1-79bc-453c-942f-7de315136696"
      },
      "outputs": [
        {
          "output_type": "execute_result",
          "data": {
            "text/plain": [
              "tensor([1513.4968, 1517.6573])"
            ]
          },
          "metadata": {},
          "execution_count": 30
        }
      ],
      "source": [
        "# get the sum of exponential\n",
        "sum(mat_exp)\n",
        "sum_of_mat_exp = torch.sum(mat_exp, dim=0)\n",
        "sum_of_mat_exp"
      ]
    },
    {
      "cell_type": "code",
      "execution_count": 31,
      "metadata": {
        "colab": {
          "base_uri": "https://localhost:8080/"
        },
        "id": "ruV4_myDgLvG",
        "outputId": "78132107-d4d3-487a-fd47-3930b1739e42"
      },
      "outputs": [
        {
          "output_type": "execute_result",
          "data": {
            "text/plain": [
              "tensor([1.0000, 1.0000])"
            ]
          },
          "metadata": {},
          "execution_count": 31
        }
      ],
      "source": [
        "# divide exponential value with sum\n",
        "prob = mat_exp / sum_of_mat_exp\n",
        "prob.sum(dim = 0)"
      ]
    },
    {
      "cell_type": "markdown",
      "metadata": {
        "id": "nRfw7T5nyhDY"
      },
      "source": [
        "## 14. Creating a Probability Function\n",
        "\n",
        "Let's create a function to calculate probabilities efficiently:"
      ]
    },
    {
      "cell_type": "code",
      "execution_count": 32,
      "metadata": {
        "colab": {
          "base_uri": "https://localhost:8080/"
        },
        "id": "EF4gutuEgntj",
        "outputId": "47f04459-a814-46dd-89bf-6fbddf171945"
      },
      "outputs": [
        {
          "output_type": "execute_result",
          "data": {
            "text/plain": [
              "tensor([[0.0007, 0.0007],\n",
              "        [0.0007, 0.0006],\n",
              "        [0.0006, 0.0008],\n",
              "        ...,\n",
              "        [0.0006, 0.0006],\n",
              "        [0.0007, 0.0007],\n",
              "        [0.0006, 0.0006]])"
            ]
          },
          "metadata": {},
          "execution_count": 32
        }
      ],
      "source": [
        "def get_probs(query_vectors, entire_vectors):\n",
        "  dot_by_mat = torch.mm(query_vectors, entire_vectors.T)\n",
        "  dot_by_mat = dot_by_mat.T\n",
        "  mat_exp = torch.exp(dot_by_mat)\n",
        "  sum_of_mat_exp = torch.sum(mat_exp, dim=0)\n",
        "  prob = mat_exp / sum_of_mat_exp\n",
        "  return prob\n",
        "\n",
        "get_probs(center_word_mat, word_vectors)"
      ]
    },
    {
      "cell_type": "markdown",
      "metadata": {
        "id": "IOo5uSXbyhDY"
      },
      "source": [
        "## 15. Preparing for Training\n",
        "\n",
        "Before training our Word2Vec model, we need to split our dataset into training and testing sets:"
      ]
    },
    {
      "cell_type": "code",
      "execution_count": 33,
      "metadata": {
        "colab": {
          "base_uri": "https://localhost:8080/"
        },
        "id": "3gjCSY3DoaFg",
        "outputId": "f827a997-0ce8-4094-8c25-9c7702d70860",
        "collapsed": true
      },
      "outputs": [
        {
          "output_type": "stream",
          "name": "stdout",
          "text": [
            "226846\n"
          ]
        }
      ],
      "source": [
        "# Now we can train the word2vec\n",
        "import random\n",
        "# Let's think about training pairs\n",
        "index_pairs # this is our dataset. It's list of list of two integer\n",
        "print(len(index_pairs))\n",
        "# two integer means a pair of neighboring words\n",
        "\n",
        "# Training set and Test set\n",
        "# To validate that our model can solve 'unseen' problems\n",
        "# So we have to split the dataset before training.\n",
        "\n",
        "# To randomly split the dataset, we will first shuffle the dataset\n",
        "\n",
        "random.shuffle(index_pairs) # this will shuffle the list items"
      ]
    },
    {
      "cell_type": "code",
      "source": [
        "train_set = index_pairs[:200000]\n",
        "test_set = index_pairs[200000:]"
      ],
      "metadata": {
        "id": "jNzrs1JQEYiB"
      },
      "execution_count": 34,
      "outputs": []
    },
    {
      "cell_type": "code",
      "execution_count": 35,
      "metadata": {
        "colab": {
          "base_uri": "https://localhost:8080/"
        },
        "id": "TC0QF3NZp9Rh",
        "outputId": "439d445f-a31e-462c-9e3f-679951becbb7"
      },
      "outputs": [
        {
          "output_type": "execute_result",
          "data": {
            "text/plain": [
              "(200000, 26846)"
            ]
          },
          "metadata": {},
          "execution_count": 35
        }
      ],
      "source": [
        "len(train_set), len(test_set)"
      ]
    },
    {
      "cell_type": "markdown",
      "metadata": {
        "id": "CKMeat2TyhDZ"
      },
      "source": [
        "## 16. Training the Word2Vec Model\n",
        "\n",
        "Now we'll train our Word2Vec model using batched gradient descent:"
      ]
    },
    {
      "cell_type": "code",
      "execution_count": 36,
      "metadata": {
        "colab": {
          "base_uri": "https://localhost:8080/"
        },
        "id": "JpUM3aiiqG8e",
        "outputId": "9695ef49-c8e5-46bf-dcda-7aedf72261a1"
      },
      "outputs": [
        {
          "output_type": "execute_result",
          "data": {
            "text/plain": [
              "tensor([[0.0007, 0.0007, 0.0006,  ..., 0.0006, 0.0006, 0.0007],\n",
              "        [0.0006, 0.0007, 0.0006,  ..., 0.0006, 0.0006, 0.0007],\n",
              "        [0.0008, 0.0006, 0.0007,  ..., 0.0006, 0.0006, 0.0006],\n",
              "        ...,\n",
              "        [0.0007, 0.0007, 0.0006,  ..., 0.0007, 0.0007, 0.0007],\n",
              "        [0.0007, 0.0007, 0.0008,  ..., 0.0006, 0.0006, 0.0007],\n",
              "        [0.0007, 0.0007, 0.0008,  ..., 0.0007, 0.0007, 0.0008]])"
            ]
          },
          "metadata": {},
          "execution_count": 36
        }
      ],
      "source": [
        "# making batch from train_set\n",
        "# Batch is a set of training samples, that are calculated together\n",
        "# And also we update the model after one single batch\n",
        "\n",
        "batch = train_set[:20]\n",
        "batch\n",
        "center_words = [x[0] for x in batch]\n",
        "conetxt_words = [x[1] for x in batch]\n",
        "\n",
        "center_words_vectors = word_vectors[center_words]\n",
        "prob = get_probs(center_words_vectors, word_vectors)\n",
        "prob"
      ]
    },
    {
      "cell_type": "markdown",
      "source": [
        "#### Training of torch\n",
        "- Divide it in batch level\n",
        "- for each batch:\n",
        "  - calculate model prediction\n",
        "  - calculate the loss\n",
        "  - backprop the loss\n",
        "  - update the parameters using gradient\n",
        "  - repeat"
      ],
      "metadata": {
        "id": "r8xfDstuFYYO"
      }
    },
    {
      "cell_type": "code",
      "source": [
        "batch_size =100\n",
        "batch_start_idx=0\n",
        "batch_end_idx=batch_start_idx+batch_size\n",
        "loss_record = []\n",
        "n_epoch =3\n",
        "\n",
        "for epoch in tqdm(range(n_epoch)):\n",
        "  for batch_start_idx in range(0, len(train_set), batch_size):\n",
        "    center_words=[x[0]for x in batch]\n",
        "    context_words=[x[1]for x in batch]\n",
        "    loss = update_word_vectors(center_words, context_words, word_vectors, )"
      ],
      "metadata": {
        "id": "QXz4Y4JK4L6M"
      },
      "execution_count": null,
      "outputs": []
    },
    {
      "cell_type": "markdown",
      "metadata": {
        "id": "s2frfncyyhDZ"
      },
      "source": [
        "## 17. Evaluating the Training\n",
        "\n",
        "Let's visualize the training loss to see if our model is learning:"
      ]
    },
    {
      "cell_type": "code",
      "execution_count": 37,
      "metadata": {
        "id": "FJHSV8zbyLYu",
        "outputId": "1ab7ae35-b837-45c4-a6c8-48ecd900fbf2",
        "colab": {
          "base_uri": "https://localhost:8080/",
          "height": 159
        }
      },
      "outputs": [
        {
          "output_type": "error",
          "ename": "NameError",
          "evalue": "name 'loss_record' is not defined",
          "traceback": [
            "\u001b[0;31m---------------------------------------------------------------------------\u001b[0m",
            "\u001b[0;31mNameError\u001b[0m                                 Traceback (most recent call last)",
            "\u001b[0;32m<ipython-input-37-2a222cc38d8c>\u001b[0m in \u001b[0;36m<cell line: 0>\u001b[0;34m()\u001b[0m\n\u001b[1;32m      1\u001b[0m \u001b[0;32mimport\u001b[0m \u001b[0mmatplotlib\u001b[0m\u001b[0;34m.\u001b[0m\u001b[0mpyplot\u001b[0m \u001b[0;32mas\u001b[0m \u001b[0mplt\u001b[0m\u001b[0;34m\u001b[0m\u001b[0;34m\u001b[0m\u001b[0m\n\u001b[0;32m----> 2\u001b[0;31m \u001b[0mplt\u001b[0m\u001b[0;34m.\u001b[0m\u001b[0mplot\u001b[0m\u001b[0;34m(\u001b[0m\u001b[0mloss_record\u001b[0m\u001b[0;34m)\u001b[0m\u001b[0;34m\u001b[0m\u001b[0;34m\u001b[0m\u001b[0m\n\u001b[0m",
            "\u001b[0;31mNameError\u001b[0m: name 'loss_record' is not defined"
          ]
        }
      ],
      "source": [
        "import matplotlib.pyplot as plt\n",
        "plt.plot(loss_record)"
      ]
    },
    {
      "cell_type": "markdown",
      "metadata": {
        "id": "7tZxnhPdyhDZ"
      },
      "source": [
        "## 18. Testing the Model\n",
        "\n",
        "Now we'll test our model on the test set:"
      ]
    },
    {
      "cell_type": "code",
      "execution_count": null,
      "metadata": {
        "id": "RDP9aR48zdJu"
      },
      "outputs": [],
      "source": []
    },
    {
      "cell_type": "markdown",
      "metadata": {
        "id": "2PPgR_2dyhDZ"
      },
      "source": [
        "## 19. Exploring Learned Word Relationships\n",
        "\n",
        "Let's explore what our model has learned by finding the words most closely related to \"harry\":"
      ]
    },
    {
      "cell_type": "code",
      "execution_count": null,
      "metadata": {
        "id": "0YaCDNq_0hFc"
      },
      "outputs": [],
      "source": [
        "# P(potter|harry)?\n"
      ]
    }
  ],
  "metadata": {
    "colab": {
      "provenance": [],
      "include_colab_link": true
    },
    "kernelspec": {
      "display_name": "Python 3",
      "name": "python3"
    },
    "language_info": {
      "codemirror_mode": {
        "name": "ipython",
        "version": 3
      },
      "file_extension": ".py",
      "mimetype": "text/x-python",
      "name": "python",
      "nbconvert_exporter": "python",
      "pygments_lexer": "ipython3",
      "version": "3.8.10"
    }
  },
  "nbformat": 4,
  "nbformat_minor": 0
}